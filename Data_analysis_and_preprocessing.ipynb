{
  "cells": [
    {
      "cell_type": "markdown",
      "id": "0a25cbe2",
      "metadata": {
        "id": "0a25cbe2"
      },
      "source": [
        "## Skin lesion data set pre-processing "
      ]
    },
    {
      "cell_type": "markdown",
      "id": "5655e1f2",
      "metadata": {
        "id": "5655e1f2"
      },
      "source": [
        "### Data tools for file landling and data pre-processing"
      ]
    },
    {
      "cell_type": "code",
      "execution_count": 1,
      "id": "baac1092",
      "metadata": {
        "id": "baac1092"
      },
      "outputs": [],
      "source": [
        "# Importing libraries\n",
        "import pandas as pd\n",
        "import numpy as np\n",
        "from tensorflow.keras.preprocessing.image import ImageDataGenerator\n",
        "import os\n",
        "from sklearn.model_selection import train_test_split\n",
        "import shutil"
      ]
    },
    {
      "cell_type": "markdown",
      "id": "2e5adbde",
      "metadata": {
        "id": "2e5adbde"
      },
      "source": [
        "### Preparing directories and folders in preparation for image data manipulation & transfer learning"
      ]
    },
    {
      "cell_type": "code",
      "source": [
        "# Accessing Google drive from where directories shall be accessed and created\n",
        "from google.colab import drive\n",
        "drive.mount('/content/drive')"
      ],
      "metadata": {
        "colab": {
          "base_uri": "https://localhost:8080/"
        },
        "id": "ANdwklphmbas",
        "outputId": "2848f705-3981-44e3-9a03-45dfdeabaad8"
      },
      "id": "ANdwklphmbas",
      "execution_count": 2,
      "outputs": [
        {
          "output_type": "stream",
          "name": "stdout",
          "text": [
            "Mounted at /content/drive\n"
          ]
        }
      ]
    },
    {
      "cell_type": "code",
      "execution_count": 3,
      "id": "a5596449",
      "metadata": {
        "id": "a5596449"
      },
      "outputs": [],
      "source": [
        "# Creating a new directory for the images\n",
        "base_dir = 'drive/MyDrive/base_dir'\n",
        "os.mkdir(base_dir)"
      ]
    },
    {
      "cell_type": "code",
      "execution_count": 4,
      "id": "52ba4c2d",
      "metadata": {
        "id": "52ba4c2d"
      },
      "outputs": [],
      "source": [
        "# Creating a training file directory\n",
        "train_dir = os.path.join(base_dir, 'train_dir')\n",
        "os.mkdir(train_dir)"
      ]
    },
    {
      "cell_type": "code",
      "execution_count": 5,
      "id": "619d54ca",
      "metadata": {
        "id": "619d54ca"
      },
      "outputs": [],
      "source": [
        "# Creating a validating file directory\n",
        "val_dir = os.path.join(base_dir, 'val_dir')\n",
        "os.mkdir(val_dir)"
      ]
    },
    {
      "cell_type": "code",
      "execution_count": 6,
      "id": "e28baab1",
      "metadata": {
        "id": "e28baab1"
      },
      "outputs": [],
      "source": [
        "# Creating new folders in the training directory for each of the classes\n",
        "nv = os.path.join(train_dir, 'nv')\n",
        "os.mkdir(nv)\n",
        "mel = os.path.join(train_dir, 'mel')\n",
        "os.mkdir(mel)\n",
        "bkl = os.path.join(train_dir, 'bkl')\n",
        "os.mkdir(bkl)\n",
        "bcc = os.path.join(train_dir, 'bcc')\n",
        "os.mkdir(bcc)\n",
        "akiec = os.path.join(train_dir, 'akiec')\n",
        "os.mkdir(akiec)\n",
        "vasc = os.path.join(train_dir, 'vasc')\n",
        "os.mkdir(vasc)\n",
        "df = os.path.join(train_dir, 'df')\n",
        "os.mkdir(df)"
      ]
    },
    {
      "cell_type": "code",
      "execution_count": 7,
      "id": "fe0997d4",
      "metadata": {
        "id": "fe0997d4"
      },
      "outputs": [],
      "source": [
        "# Creating new folders in the validation directory for each of the classes\n",
        "nv = os.path.join(val_dir, 'nv')\n",
        "os.mkdir(nv)\n",
        "mel = os.path.join(val_dir, 'mel')\n",
        "os.mkdir(mel)\n",
        "bkl = os.path.join(val_dir, 'bkl')\n",
        "os.mkdir(bkl)\n",
        "bcc = os.path.join(val_dir, 'bcc')\n",
        "os.mkdir(bcc)\n",
        "akiec = os.path.join(val_dir, 'akiec')\n",
        "os.mkdir(akiec)\n",
        "vasc = os.path.join(val_dir, 'vasc')\n",
        "os.mkdir(vasc)\n",
        "df = os.path.join(val_dir, 'df')\n",
        "os.mkdir(df)"
      ]
    },
    {
      "cell_type": "markdown",
      "id": "f41ae270",
      "metadata": {
        "id": "f41ae270"
      },
      "source": [
        "### Accessing benchmark skin lesion data set for data pre-processing"
      ]
    },
    {
      "cell_type": "code",
      "source": [
        "# Reading the metadata\n",
        "df = pd.read_csv('drive/MyDrive/Image_processing/HAM10000_metadata.csv')"
      ],
      "metadata": {
        "id": "viIkO-BXzuPP"
      },
      "id": "viIkO-BXzuPP",
      "execution_count": 8,
      "outputs": []
    },
    {
      "cell_type": "code",
      "execution_count": 9,
      "id": "aeff7521",
      "metadata": {
        "id": "aeff7521",
        "colab": {
          "base_uri": "https://localhost:8080/",
          "height": 206
        },
        "outputId": "abce5489-40f5-4ab9-a017-287246ad1fde"
      },
      "outputs": [
        {
          "output_type": "execute_result",
          "data": {
            "text/plain": [
              "     lesion_id      image_id   dx dx_type   age   sex localization\n",
              "0  HAM_0000118  ISIC_0027419  bkl   histo  80.0  male        scalp\n",
              "1  HAM_0000118  ISIC_0025030  bkl   histo  80.0  male        scalp\n",
              "2  HAM_0002730  ISIC_0026769  bkl   histo  80.0  male        scalp\n",
              "3  HAM_0002730  ISIC_0025661  bkl   histo  80.0  male        scalp\n",
              "4  HAM_0001466  ISIC_0031633  bkl   histo  75.0  male          ear"
            ],
            "text/html": [
              "\n",
              "  <div id=\"df-c8c5cb97-5b86-4a9a-a9b3-527334f82010\">\n",
              "    <div class=\"colab-df-container\">\n",
              "      <div>\n",
              "<style scoped>\n",
              "    .dataframe tbody tr th:only-of-type {\n",
              "        vertical-align: middle;\n",
              "    }\n",
              "\n",
              "    .dataframe tbody tr th {\n",
              "        vertical-align: top;\n",
              "    }\n",
              "\n",
              "    .dataframe thead th {\n",
              "        text-align: right;\n",
              "    }\n",
              "</style>\n",
              "<table border=\"1\" class=\"dataframe\">\n",
              "  <thead>\n",
              "    <tr style=\"text-align: right;\">\n",
              "      <th></th>\n",
              "      <th>lesion_id</th>\n",
              "      <th>image_id</th>\n",
              "      <th>dx</th>\n",
              "      <th>dx_type</th>\n",
              "      <th>age</th>\n",
              "      <th>sex</th>\n",
              "      <th>localization</th>\n",
              "    </tr>\n",
              "  </thead>\n",
              "  <tbody>\n",
              "    <tr>\n",
              "      <th>0</th>\n",
              "      <td>HAM_0000118</td>\n",
              "      <td>ISIC_0027419</td>\n",
              "      <td>bkl</td>\n",
              "      <td>histo</td>\n",
              "      <td>80.0</td>\n",
              "      <td>male</td>\n",
              "      <td>scalp</td>\n",
              "    </tr>\n",
              "    <tr>\n",
              "      <th>1</th>\n",
              "      <td>HAM_0000118</td>\n",
              "      <td>ISIC_0025030</td>\n",
              "      <td>bkl</td>\n",
              "      <td>histo</td>\n",
              "      <td>80.0</td>\n",
              "      <td>male</td>\n",
              "      <td>scalp</td>\n",
              "    </tr>\n",
              "    <tr>\n",
              "      <th>2</th>\n",
              "      <td>HAM_0002730</td>\n",
              "      <td>ISIC_0026769</td>\n",
              "      <td>bkl</td>\n",
              "      <td>histo</td>\n",
              "      <td>80.0</td>\n",
              "      <td>male</td>\n",
              "      <td>scalp</td>\n",
              "    </tr>\n",
              "    <tr>\n",
              "      <th>3</th>\n",
              "      <td>HAM_0002730</td>\n",
              "      <td>ISIC_0025661</td>\n",
              "      <td>bkl</td>\n",
              "      <td>histo</td>\n",
              "      <td>80.0</td>\n",
              "      <td>male</td>\n",
              "      <td>scalp</td>\n",
              "    </tr>\n",
              "    <tr>\n",
              "      <th>4</th>\n",
              "      <td>HAM_0001466</td>\n",
              "      <td>ISIC_0031633</td>\n",
              "      <td>bkl</td>\n",
              "      <td>histo</td>\n",
              "      <td>75.0</td>\n",
              "      <td>male</td>\n",
              "      <td>ear</td>\n",
              "    </tr>\n",
              "  </tbody>\n",
              "</table>\n",
              "</div>\n",
              "      <button class=\"colab-df-convert\" onclick=\"convertToInteractive('df-c8c5cb97-5b86-4a9a-a9b3-527334f82010')\"\n",
              "              title=\"Convert this dataframe to an interactive table.\"\n",
              "              style=\"display:none;\">\n",
              "        \n",
              "  <svg xmlns=\"http://www.w3.org/2000/svg\" height=\"24px\"viewBox=\"0 0 24 24\"\n",
              "       width=\"24px\">\n",
              "    <path d=\"M0 0h24v24H0V0z\" fill=\"none\"/>\n",
              "    <path d=\"M18.56 5.44l.94 2.06.94-2.06 2.06-.94-2.06-.94-.94-2.06-.94 2.06-2.06.94zm-11 1L8.5 8.5l.94-2.06 2.06-.94-2.06-.94L8.5 2.5l-.94 2.06-2.06.94zm10 10l.94 2.06.94-2.06 2.06-.94-2.06-.94-.94-2.06-.94 2.06-2.06.94z\"/><path d=\"M17.41 7.96l-1.37-1.37c-.4-.4-.92-.59-1.43-.59-.52 0-1.04.2-1.43.59L10.3 9.45l-7.72 7.72c-.78.78-.78 2.05 0 2.83L4 21.41c.39.39.9.59 1.41.59.51 0 1.02-.2 1.41-.59l7.78-7.78 2.81-2.81c.8-.78.8-2.07 0-2.86zM5.41 20L4 18.59l7.72-7.72 1.47 1.35L5.41 20z\"/>\n",
              "  </svg>\n",
              "      </button>\n",
              "      \n",
              "  <style>\n",
              "    .colab-df-container {\n",
              "      display:flex;\n",
              "      flex-wrap:wrap;\n",
              "      gap: 12px;\n",
              "    }\n",
              "\n",
              "    .colab-df-convert {\n",
              "      background-color: #E8F0FE;\n",
              "      border: none;\n",
              "      border-radius: 50%;\n",
              "      cursor: pointer;\n",
              "      display: none;\n",
              "      fill: #1967D2;\n",
              "      height: 32px;\n",
              "      padding: 0 0 0 0;\n",
              "      width: 32px;\n",
              "    }\n",
              "\n",
              "    .colab-df-convert:hover {\n",
              "      background-color: #E2EBFA;\n",
              "      box-shadow: 0px 1px 2px rgba(60, 64, 67, 0.3), 0px 1px 3px 1px rgba(60, 64, 67, 0.15);\n",
              "      fill: #174EA6;\n",
              "    }\n",
              "\n",
              "    [theme=dark] .colab-df-convert {\n",
              "      background-color: #3B4455;\n",
              "      fill: #D2E3FC;\n",
              "    }\n",
              "\n",
              "    [theme=dark] .colab-df-convert:hover {\n",
              "      background-color: #434B5C;\n",
              "      box-shadow: 0px 1px 3px 1px rgba(0, 0, 0, 0.15);\n",
              "      filter: drop-shadow(0px 1px 2px rgba(0, 0, 0, 0.3));\n",
              "      fill: #FFFFFF;\n",
              "    }\n",
              "  </style>\n",
              "\n",
              "      <script>\n",
              "        const buttonEl =\n",
              "          document.querySelector('#df-c8c5cb97-5b86-4a9a-a9b3-527334f82010 button.colab-df-convert');\n",
              "        buttonEl.style.display =\n",
              "          google.colab.kernel.accessAllowed ? 'block' : 'none';\n",
              "\n",
              "        async function convertToInteractive(key) {\n",
              "          const element = document.querySelector('#df-c8c5cb97-5b86-4a9a-a9b3-527334f82010');\n",
              "          const dataTable =\n",
              "            await google.colab.kernel.invokeFunction('convertToInteractive',\n",
              "                                                     [key], {});\n",
              "          if (!dataTable) return;\n",
              "\n",
              "          const docLinkHtml = 'Like what you see? Visit the ' +\n",
              "            '<a target=\"_blank\" href=https://colab.research.google.com/notebooks/data_table.ipynb>data table notebook</a>'\n",
              "            + ' to learn more about interactive tables.';\n",
              "          element.innerHTML = '';\n",
              "          dataTable['output_type'] = 'display_data';\n",
              "          await google.colab.output.renderOutput(dataTable, element);\n",
              "          const docLink = document.createElement('div');\n",
              "          docLink.innerHTML = docLinkHtml;\n",
              "          element.appendChild(docLink);\n",
              "        }\n",
              "      </script>\n",
              "    </div>\n",
              "  </div>\n",
              "  "
            ]
          },
          "metadata": {},
          "execution_count": 9
        }
      ],
      "source": [
        "# Showing some information about the data frame created from the data set\n",
        "df.head()"
      ]
    },
    {
      "cell_type": "code",
      "execution_count": 10,
      "id": "61750e5b",
      "metadata": {
        "id": "61750e5b"
      },
      "outputs": [],
      "source": [
        "# Set column 'dx' as the labels\n",
        "y = df['dx']"
      ]
    },
    {
      "cell_type": "code",
      "execution_count": 11,
      "id": "993333fb",
      "metadata": {
        "id": "993333fb"
      },
      "outputs": [],
      "source": [
        "# Splitting the metadata into training and validation\n",
        "df_train, df_val = train_test_split(df, test_size=0.1, random_state=42, stratify=y)"
      ]
    },
    {
      "cell_type": "code",
      "execution_count": 12,
      "id": "662cf290",
      "metadata": {
        "id": "662cf290",
        "outputId": "a246f969-5d17-44c6-ff49-ccbb0140993c",
        "colab": {
          "base_uri": "https://localhost:8080/"
        }
      },
      "outputs": [
        {
          "output_type": "stream",
          "name": "stdout",
          "text": [
            "(9013, 7)\n",
            "(1002, 7)\n"
          ]
        }
      ],
      "source": [
        "# Printing the shape of the training and validation split\n",
        "print(df_train.shape)\n",
        "print(df_val.shape)"
      ]
    },
    {
      "cell_type": "code",
      "execution_count": 13,
      "id": "c2be154e",
      "metadata": {
        "id": "c2be154e",
        "outputId": "a584cd20-2df5-424a-9339-9008ea96eec3",
        "colab": {
          "base_uri": "https://localhost:8080/"
        }
      },
      "outputs": [
        {
          "output_type": "execute_result",
          "data": {
            "text/plain": [
              "nv       671\n",
              "mel      111\n",
              "bkl      110\n",
              "bcc       51\n",
              "akiec     33\n",
              "vasc      14\n",
              "df        12\n",
              "Name: dx, dtype: int64"
            ]
          },
          "metadata": {},
          "execution_count": 13
        }
      ],
      "source": [
        "# Finding the number of values in the training and validation set\n",
        "df_train['dx'].value_counts()\n",
        "df_val['dx'].value_counts() # Outputs number of values in the validation set "
      ]
    },
    {
      "cell_type": "markdown",
      "id": "35fe2a0e",
      "metadata": {
        "id": "35fe2a0e"
      },
      "source": [
        "### Allocating image data samples to images for training and images for validation"
      ]
    },
    {
      "cell_type": "code",
      "execution_count": 14,
      "id": "451ffc26",
      "metadata": {
        "id": "451ffc26"
      },
      "outputs": [],
      "source": [
        "# Transfering the images into folders\n",
        "# Setting the image ID as the index\n",
        "df.set_index('image_id', inplace=True)"
      ]
    },
    {
      "cell_type": "code",
      "execution_count": 15,
      "id": "5044bb7e",
      "metadata": {
        "id": "5044bb7e"
      },
      "outputs": [],
      "source": [
        "# Getting a list of images in each of the two folders of HAM10000 images\n",
        "folder_1 = os.listdir('drive/MyDrive/Image_processing/HAM10000_images_part_1')\n",
        "folder_2 = os.listdir('drive/MyDrive/Image_processing/HAM10000_images_part_2')"
      ]
    },
    {
      "cell_type": "code",
      "execution_count": 16,
      "id": "bece478c",
      "metadata": {
        "id": "bece478c"
      },
      "outputs": [],
      "source": [
        "# Getting a list of train and val images\n",
        "train_list = list(df_train['image_id'])\n",
        "val_list = list(df_val['image_id'])"
      ]
    },
    {
      "cell_type": "code",
      "execution_count": 17,
      "id": "01016e7f",
      "metadata": {
        "id": "01016e7f"
      },
      "outputs": [],
      "source": [
        "# Transferring the training images\n",
        "for image in train_list:\n",
        "\n",
        "    fname = image + '.jpg'\n",
        "    label = df.loc[image, 'dx']\n",
        "\n",
        "    if fname in folder_1:\n",
        "        # Source path to image\n",
        "        src = os.path.join('drive/MyDrive/Image_processing/HAM10000_images_part_1', fname)\n",
        "        # Destination path to image\n",
        "        dst = os.path.join(train_dir, label, fname)\n",
        "        # Copying the image from the source to the destination\n",
        "        shutil.copyfile(src, dst)\n",
        "\n",
        "    if fname in folder_2:\n",
        "        # Source path to image\n",
        "        src = os.path.join('drive/MyDrive/Image_processing/HAM10000_images_part_2', fname)\n",
        "        # Destination path to image\n",
        "        dst = os.path.join(train_dir, label, fname)\n",
        "        # Copying the image from the source to the destination\n",
        "        shutil.copyfile(src, dst)"
      ]
    },
    {
      "cell_type": "code",
      "execution_count": 18,
      "id": "619d41e5",
      "metadata": {
        "id": "619d41e5"
      },
      "outputs": [],
      "source": [
        "# Transferring the validation images\n",
        "for image in val_list:\n",
        "\n",
        "    fname = image + '.jpg'\n",
        "    label = df.loc[image, 'dx']\n",
        "\n",
        "    if fname in folder_1:\n",
        "        # Source path to image\n",
        "        src = os.path.join('drive/MyDrive/Image_processing/HAM10000_images_part_1', fname)\n",
        "        # Destination path to image\n",
        "        dst = os.path.join(val_dir, label, fname)\n",
        "        # Copying the image from the source to the destination\n",
        "        shutil.copyfile(src, dst)\n",
        "\n",
        "    if fname in folder_2:\n",
        "        # Source path to image\n",
        "        src = os.path.join('drive/MyDrive/Image_processing/HAM10000_images_part_2', fname)\n",
        "        # Destination path to image\n",
        "        dst = os.path.join(val_dir, label, fname)\n",
        "        # Copying the image from the source to the destination\n",
        "        shutil.copyfile(src, dst)"
      ]
    },
    {
      "cell_type": "code",
      "execution_count": 20,
      "id": "c8a69bf6",
      "metadata": {
        "id": "c8a69bf6",
        "outputId": "9bbe931e-050a-42ea-98aa-b4ed1bddebc9",
        "colab": {
          "base_uri": "https://localhost:8080/"
        }
      },
      "outputs": [
        {
          "output_type": "stream",
          "name": "stdout",
          "text": [
            "6034\n",
            "1002\n",
            "989\n",
            "463\n",
            "294\n",
            "128\n",
            "103\n"
          ]
        }
      ],
      "source": [
        "# Checking how many training images are in each folder\n",
        "print(len(os.listdir('drive/MyDrive/base_dir/train_dir/nv')))\n",
        "print(len(os.listdir('drive/MyDrive/base_dir/train_dir/mel')))\n",
        "print(len(os.listdir('drive/MyDrive/base_dir/train_dir/bkl')))\n",
        "print(len(os.listdir('drive/MyDrive/base_dir/train_dir/bcc')))\n",
        "print(len(os.listdir('drive/MyDrive/base_dir/train_dir/akiec')))\n",
        "print(len(os.listdir('drive/MyDrive/base_dir/train_dir/vasc')))\n",
        "print(len(os.listdir('drive/MyDrive/base_dir/train_dir/df')))"
      ]
    },
    {
      "cell_type": "code",
      "execution_count": 21,
      "id": "3d891085",
      "metadata": {
        "id": "3d891085",
        "outputId": "c3d47dd7-bc91-4c78-dbdb-63590a09dd41",
        "colab": {
          "base_uri": "https://localhost:8080/"
        }
      },
      "outputs": [
        {
          "output_type": "stream",
          "name": "stdout",
          "text": [
            "671\n",
            "111\n",
            "110\n",
            "51\n",
            "33\n",
            "14\n",
            "12\n"
          ]
        }
      ],
      "source": [
        "# Checking how many validation images are in each folder\n",
        "print(len(os.listdir('drive/MyDrive/base_dir/val_dir/nv')))\n",
        "print(len(os.listdir('drive/MyDrive/base_dir/val_dir/mel')))\n",
        "print(len(os.listdir('drive/MyDrive/base_dir/val_dir/bkl')))\n",
        "print(len(os.listdir('drive/MyDrive/base_dir/val_dir/bcc')))\n",
        "print(len(os.listdir('drive/MyDrive/base_dir/val_dir/akiec')))\n",
        "print(len(os.listdir('drive/MyDrive/base_dir/val_dir/vasc')))\n",
        "print(len(os.listdir('drive/MyDrive/base_dir/val_dir/df')))"
      ]
    },
    {
      "cell_type": "markdown",
      "id": "686242e2",
      "metadata": {
        "id": "686242e2"
      },
      "source": [
        "'The **principal problem of the HAM10000 database** is **classes imbalance** and the **irregular distribution of skin disease numbers**. NV class <is almost 70%> of the total image numbers. This factor influences the training and creates an extreme imbalance database. The second large class is BKL, with approximately 13% of the pictures. The other classes contribute a minority number of the images. Especially, less than 2% of the total images belong to the DF class, which is the most difficult class for prediction.' From https://www.mdpi.com/2076-3417/12/5/2677/htm"
      ]
    },
    {
      "cell_type": "markdown",
      "id": "13935e23",
      "metadata": {
        "id": "13935e23"
      },
      "source": [
        "### Data augmentation with Keras ImageDataGenerator"
      ]
    },
    {
      "cell_type": "code",
      "execution_count": 22,
      "id": "012a23fd",
      "metadata": {
        "id": "012a23fd",
        "colab": {
          "base_uri": "https://localhost:8080/"
        },
        "outputId": "f15216bd-b0e0-4783-c0fb-ded9584ce31c"
      },
      "outputs": [
        {
          "output_type": "stream",
          "name": "stdout",
          "text": [
            "Found 1002 images belonging to 1 classes.\n",
            "Found 989 images belonging to 1 classes.\n",
            "Found 463 images belonging to 1 classes.\n",
            "Found 294 images belonging to 1 classes.\n",
            "Found 128 images belonging to 1 classes.\n",
            "Found 103 images belonging to 1 classes.\n"
          ]
        }
      ],
      "source": [
        "# Improving data quality by creating synthetically modified data from available training data in\n",
        "# anticipation of leveraging metrics of a pre-trained CNN for image classification\n",
        "\n",
        "# Class 'nv' is not going to be augmented\n",
        "class_list = ['mel', 'bkl', 'bcc', 'akiec', 'vasc', 'df']\n",
        "\n",
        "for item in class_list:\n",
        "\n",
        "    # Creating a temporary directory for the augmented images\n",
        "    aug_dir = 'drive/MyDrive/aug_dir'\n",
        "    os.mkdir(aug_dir)\n",
        "\n",
        "    # Creating a directory within the base dir to store images of the same class\n",
        "    img_dir = os.path.join(aug_dir, 'img_dir')\n",
        "    os.mkdir(img_dir)\n",
        "\n",
        "    # Choosing a class\n",
        "    img_class = item\n",
        "\n",
        "    # Listing all the images in the directory\n",
        "    img_list = os.listdir('drive/MyDrive/base_dir/train_dir/' + img_class)\n",
        "\n",
        "    # Copying images from the class train dir to the img_dir\n",
        "    for fname in img_list:\n",
        "        # Source path to image\n",
        "        src = os.path.join('drive/MyDrive/base_dir/train_dir/' + img_class, fname)\n",
        "        # Destination path to image\n",
        "        dst = os.path.join(img_dir, fname)\n",
        "        # Copying the image from the source to the destination\n",
        "        shutil.copyfile(src, dst)\n",
        "\n",
        "    # Pointing to a directory containing the images and not to the images themselves\n",
        "    path = aug_dir\n",
        "    save_path = 'drive/MyDrive/base_dir/train_dir/' + img_class\n",
        "\n",
        "    # Creating a data generator to augment the images in real time\n",
        "    datagen = ImageDataGenerator(\n",
        "        rotation_range=180,\n",
        "        width_shift_range=0.1,\n",
        "        height_shift_range=0.1,\n",
        "        zoom_range=0.1,\n",
        "        horizontal_flip=True,\n",
        "        vertical_flip=True,\n",
        "        # Brightness_range=(0.9,1.1),\n",
        "        fill_mode='nearest')\n",
        "\n",
        "    batch_size = 50\n",
        "\n",
        "    aug_datagen = datagen.flow_from_directory(path,\n",
        "                                              save_to_dir=save_path,\n",
        "                                              save_format='jpg',\n",
        "                                              target_size=(224, 224),\n",
        "                                              batch_size=batch_size)\n",
        "\n",
        "    # Generating the augmented images and adding them to the training folders\n",
        "    num_aug_images_wanted = 6000  # Total number of images to be had in each class matching class 'nv'\n",
        "    num_files = len(os.listdir(img_dir))\n",
        "    num_batches = int(np.ceil((num_aug_images_wanted - num_files) / batch_size))\n",
        "\n",
        "    # Running the generator and creating about 6000 augmented images\n",
        "    for i in range(0, num_batches):\n",
        "        imgs, labels = next(aug_datagen)\n",
        "\n",
        "    # Deleting temporary directory with the raw image files\n",
        "    shutil.rmtree('drive/MyDrive/aug_dir')"
      ]
    },
    {
      "cell_type": "code",
      "execution_count": 27,
      "id": "63ea0844",
      "metadata": {
        "id": "63ea0844",
        "outputId": "99d33701-e63e-451c-af28-b610b542d535",
        "colab": {
          "base_uri": "https://localhost:8080/"
        }
      },
      "outputs": [
        {
          "output_type": "stream",
          "name": "stdout",
          "text": [
            "6034\n",
            "5810\n",
            "5984\n",
            "5606\n",
            "5930\n",
            "5170\n",
            "4170\n"
          ]
        }
      ],
      "source": [
        "# Checking how many train images are each folder (original + augmented)\n",
        "print(len(os.listdir('drive/MyDrive/base_dir/train_dir/nv')))\n",
        "print(len(os.listdir('drive/MyDrive/base_dir/train_dir/mel')))\n",
        "print(len(os.listdir('drive/MyDrive/base_dir/train_dir/bkl')))\n",
        "print(len(os.listdir('drive/MyDrive/base_dir/train_dir/bcc')))\n",
        "print(len(os.listdir('drive/MyDrive/base_dir/train_dir/akiec')))\n",
        "print(len(os.listdir('drive/MyDrive/base_dir/train_dir/vasc')))\n",
        "print(len(os.listdir('drive/MyDrive/base_dir/train_dir/df')))"
      ]
    },
    {
      "cell_type": "markdown",
      "id": "874a6aae",
      "metadata": {
        "id": "874a6aae"
      },
      "source": [
        "**NOTE:** From 9,013 training data, there's now a total of **38,704 training data samples** "
      ]
    },
    {
      "cell_type": "code",
      "execution_count": 29,
      "id": "aff49bae",
      "metadata": {
        "id": "aff49bae",
        "outputId": "20a3eece-36fd-4b9c-f471-006abc5d9b67",
        "colab": {
          "base_uri": "https://localhost:8080/"
        }
      },
      "outputs": [
        {
          "output_type": "stream",
          "name": "stdout",
          "text": [
            "671\n",
            "111\n",
            "110\n",
            "51\n",
            "33\n",
            "14\n",
            "12\n"
          ]
        }
      ],
      "source": [
        "# Checking how many validation images are in each folder\n",
        "print(len(os.listdir('drive/MyDrive/base_dir/val_dir/nv')))\n",
        "print(len(os.listdir('drive/MyDrive/base_dir/val_dir/mel')))\n",
        "print(len(os.listdir('drive/MyDrive/base_dir/val_dir/bkl')))\n",
        "print(len(os.listdir('drive/MyDrive/base_dir/val_dir/bcc')))\n",
        "print(len(os.listdir('drive/MyDrive/base_dir/val_dir/akiec')))\n",
        "print(len(os.listdir('drive/MyDrive/base_dir/val_dir/vasc')))\n",
        "print(len(os.listdir('drive/MyDrive/base_dir/val_dir/df')))"
      ]
    },
    {
      "cell_type": "markdown",
      "id": "515eea75",
      "metadata": {
        "id": "515eea75"
      },
      "source": [
        "To refresh the memory, our **validation data** remains at 1,002 samples"
      ]
    }
  ],
  "metadata": {
    "kernelspec": {
      "display_name": "tf",
      "language": "python",
      "name": "tf"
    },
    "language_info": {
      "codemirror_mode": {
        "name": "ipython",
        "version": 3
      },
      "file_extension": ".py",
      "mimetype": "text/x-python",
      "name": "python",
      "nbconvert_exporter": "python",
      "pygments_lexer": "ipython3",
      "version": "3.7.13"
    },
    "colab": {
      "name": "Data_analysis_and_preprocessing.ipynb",
      "provenance": [],
      "collapsed_sections": []
    }
  },
  "nbformat": 4,
  "nbformat_minor": 5
}