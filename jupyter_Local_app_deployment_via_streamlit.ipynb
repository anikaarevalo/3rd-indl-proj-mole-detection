{
 "cells": [
  {
   "cell_type": "markdown",
   "metadata": {
    "id": "gsjGNV7OBg3E"
   },
   "source": [
    "## Deploying the mole detection app locally via streamlit"
   ]
  },
  {
   "cell_type": "code",
   "execution_count": null,
   "metadata": {},
   "outputs": [],
   "source": [
    "# Importing necessary python-based data processing tools & machine-learning libraries\n",
    "import streamlit as st\n",
    "from PIL import Image, ImageOps\n",
    "import maltplotlib.pyplot as plt\n",
    "import tensorflow as tf\n",
    "import tensorflow_hub as hub\n",
    "import numpy as np\n",
    "from tensorflow.keras import preprocessing\n",
    "from tensorflow.keras.models import load_model\n",
    "from tensorflow.keras.activations import softmax\n",
    "import os\n",
    "import h5py"
   ]
  },
  {
   "cell_type": "code",
   "execution_count": null,
   "metadata": {},
   "outputs": [],
   "source": []
  },
  {
   "cell_type": "code",
   "execution_count": null,
   "metadata": {},
   "outputs": [],
   "source": []
  },
  {
   "cell_type": "code",
   "execution_count": null,
   "metadata": {},
   "outputs": [],
   "source": []
  },
  {
   "cell_type": "code",
   "execution_count": null,
   "metadata": {},
   "outputs": [],
   "source": []
  },
  {
   "cell_type": "markdown",
   "metadata": {
    "id": "BNXqCX7aD6nw"
   },
   "source": [
    "### Loading the model"
   ]
  },
  {
   "cell_type": "code",
   "execution_count": 1,
   "metadata": {
    "id": "KTeKj95DCpnf"
   },
   "outputs": [],
   "source": [
    "import numpy as np\n",
    "import tensorflow as tf\n",
    "from tensorflow import keras"
   ]
  },
  {
   "cell_type": "code",
   "execution_count": 2,
   "metadata": {
    "id": "DNfif11SCIHw"
   },
   "outputs": [],
   "source": [
    "# Loading the Tensorflow Saved Model (PB)\n",
    "model = tf.keras.models.load_model('drive/MyDrive/my_model')"
   ]
  },
  {
   "cell_type": "code",
   "execution_count": 3,
   "metadata": {
    "colab": {
     "base_uri": "https://localhost:8080/"
    },
    "id": "r8TJNNbK8GyZ",
    "outputId": "8d567173-218d-4d2b-fa56-c039aa423906"
   },
   "outputs": [
    {
     "data": {
      "text/plain": [
       "<function keras.saving.save.save_model>"
      ]
     },
     "execution_count": 3,
     "metadata": {},
     "output_type": "execute_result"
    }
   ],
   "source": [
    "# Saving the Model\n",
    "tf.keras.models.save_model"
   ]
  },
  {
   "cell_type": "markdown",
   "metadata": {
    "id": "aLTtvMs9DJ3n"
   },
   "source": [
    "### Converting saved model from tensorflow SavedModel format (.pb) to .h5 format"
   ]
  },
  {
   "cell_type": "code",
   "execution_count": 4,
   "metadata": {
    "id": "B2twIzzbC5T4"
   },
   "outputs": [],
   "source": [
    "import os\n",
    "import tensorflow as tf\n",
    "from tensorflow.keras.preprocessing import image\n",
    "\n",
    "pb_model_dir = 'drive/MyDrive/my_model'\n",
    "h5_model = 'drive/MyDrive/mymodel.h5'"
   ]
  },
  {
   "cell_type": "code",
   "execution_count": 5,
   "metadata": {
    "colab": {
     "base_uri": "https://localhost:8080/"
    },
    "id": "iUtMPiS7Dl0_",
    "outputId": "0abe75e7-bb51-4c8e-f224-2a2e88225184"
   },
   "outputs": [
    {
     "name": "stdout",
     "output_type": "stream",
     "text": [
      "Model: \"sequential\"\n",
      "_________________________________________________________________\n",
      " Layer (type)                Output Shape              Param #   \n",
      "=================================================================\n",
      " model (Functional)          (None, 7, 7, 7)           1541511   \n",
      "                                                                 \n",
      " flatten (Flatten)           (None, 343)               0         \n",
      "                                                                 \n",
      " dense_1 (Dense)             (None, 64)                22016     \n",
      "                                                                 \n",
      " dropout_1 (Dropout)         (None, 64)                0         \n",
      "                                                                 \n",
      " dense_2 (Dense)             (None, 7)                 455       \n",
      "                                                                 \n",
      "=================================================================\n",
      "Total params: 1,563,982\n",
      "Trainable params: 1,533,070\n",
      "Non-trainable params: 30,912\n",
      "_________________________________________________________________\n",
      "None\n"
     ]
    }
   ],
   "source": [
    "# Loading the Tensorflow Saved Model (PB)\n",
    "model = tf.keras.models.load_model(pb_model_dir)\n",
    "print(model.summary())"
   ]
  },
  {
   "cell_type": "code",
   "execution_count": 6,
   "metadata": {
    "id": "zbrWUqeuDmLx"
   },
   "outputs": [],
   "source": [
    "# Saving the Model in H5 Format\n",
    "tf.keras.models.save_model(model, h5_model)"
   ]
  },
  {
   "cell_type": "code",
   "execution_count": 7,
   "metadata": {
    "colab": {
     "base_uri": "https://localhost:8080/"
    },
    "id": "Hk3CAMnWDmT-",
    "outputId": "e4436afc-1463-4c36-d6f5-4897a8e47af4"
   },
   "outputs": [
    {
     "name": "stdout",
     "output_type": "stream",
     "text": [
      "Model: \"sequential\"\n",
      "_________________________________________________________________\n",
      " Layer (type)                Output Shape              Param #   \n",
      "=================================================================\n",
      " model (Functional)          (None, 7, 7, 7)           1541511   \n",
      "                                                                 \n",
      " flatten (Flatten)           (None, 343)               0         \n",
      "                                                                 \n",
      " dense_1 (Dense)             (None, 64)                22016     \n",
      "                                                                 \n",
      " dropout_1 (Dropout)         (None, 64)                0         \n",
      "                                                                 \n",
      " dense_2 (Dense)             (None, 7)                 455       \n",
      "                                                                 \n",
      "=================================================================\n",
      "Total params: 1,563,982\n",
      "Trainable params: 1,533,070\n",
      "Non-trainable params: 30,912\n",
      "_________________________________________________________________\n",
      "None\n"
     ]
    }
   ],
   "source": [
    "# Loading the H5 Saved Model\n",
    "loaded_model_from_h5 = tf.keras.models.load_model(h5_model)\n",
    "print(loaded_model_from_h5.summary())"
   ]
  },
  {
   "cell_type": "markdown",
   "metadata": {
    "id": "IOb2J8zhEPBf"
   },
   "source": [
    "### Local deployment via streamlit"
   ]
  },
  {
   "cell_type": "code",
   "execution_count": null,
   "metadata": {
    "id": "0qYUK0NCBY4K"
   },
   "outputs": [],
   "source": [
    "def load_image():\n",
    "    uploaded_file = st.file_uploader(label='Pick an image to test')\n",
    "    if uploaded_file is not None:\n",
    "        image_data = uploaded_file.getvalue()\n",
    "        st.image(image_data)\n",
    "        return Image.open(io.BytesIO(image_data))\n",
    "    else:\n",
    "        return None\n",
    "\n",
    "def load_model():\n",
    "    model = tf.keras.models.load_model('drive/MyDrive/mymodel.h5')\n",
    "    model.eval()\n",
    "    return model\n",
    "\n",
    "def predict():\n",
    "    \n",
    "\n",
    "\n",
    "def main():\n",
    "    st.title('Pretrained image classification model prototype')\n",
    "    model = load_model()\n",
    "    categories = load_labels()\n",
    "    image = load_image()\n",
    "    result = st.button('Run on image')\n",
    "    if result:\n",
    "        st.write('Predicting results...')\n",
    "        predict(model, categories, image)\n",
    "\n",
    "\n",
    "if name == 'main':\n",
    "    main()"
   ]
  }
 ],
 "metadata": {
  "colab": {
   "name": "Local_app_deployment_via_streamlit.ipynb",
   "provenance": []
  },
  "kernelspec": {
   "display_name": "tf",
   "language": "python",
   "name": "tf"
  },
  "language_info": {
   "codemirror_mode": {
    "name": "ipython",
    "version": 3
   },
   "file_extension": ".py",
   "mimetype": "text/x-python",
   "name": "python",
   "nbconvert_exporter": "python",
   "pygments_lexer": "ipython3",
   "version": "3.7.13"
  }
 },
 "nbformat": 4,
 "nbformat_minor": 1
}
