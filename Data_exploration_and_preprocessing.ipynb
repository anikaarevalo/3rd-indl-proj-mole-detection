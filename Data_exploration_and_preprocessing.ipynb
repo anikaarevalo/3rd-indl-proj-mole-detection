{
 "cells": [
  {
   "cell_type": "markdown",
   "id": "2f0021f6",
   "metadata": {},
   "source": [
    "## Mole classification HAM10000"
   ]
  },
  {
   "cell_type": "markdown",
   "id": "2a8413f6",
   "metadata": {},
   "source": [
    "### Importing Libraries"
   ]
  }
 ],
 "metadata": {
  "kernelspec": {
   "display_name": "tf",
   "language": "python",
   "name": "tf"
  },
  "language_info": {
   "codemirror_mode": {
    "name": "ipython",
    "version": 3
   },
   "file_extension": ".py",
   "mimetype": "text/x-python",
   "name": "python",
   "nbconvert_exporter": "python",
   "pygments_lexer": "ipython3",
   "version": "3.7.13"
  }
 },
 "nbformat": 4,
 "nbformat_minor": 5
}
