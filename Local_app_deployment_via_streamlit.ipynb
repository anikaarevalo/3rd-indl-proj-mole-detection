{
  "nbformat": 4,
  "nbformat_minor": 0,
  "metadata": {
    "colab": {
      "name": "Local_app_deployment_via_streamlit.ipynb",
      "provenance": []
    },
    "kernelspec": {
      "name": "python3",
      "display_name": "Python 3"
    },
    "language_info": {
      "name": "python"
    }
  },
  "cells": [
    {
      "cell_type": "markdown",
      "source": [
        "## Deploying the mole detection app locally via streamlit"
      ],
      "metadata": {
        "id": "gsjGNV7OBg3E"
      }
    },
    {
      "cell_type": "markdown",
      "source": [
        "### Loading the model"
      ],
      "metadata": {
        "id": "BNXqCX7aD6nw"
      }
    },
    {
      "cell_type": "code",
      "source": [
        "import numpy as np\n",
        "import tensorflow as tf\n",
        "from tensorflow import keras"
      ],
      "metadata": {
        "id": "KTeKj95DCpnf"
      },
      "execution_count": 1,
      "outputs": []
    },
    {
      "cell_type": "code",
      "source": [
        "# Loading the Tensorflow Saved Model (PB)\n",
        "model = tf.keras.models.load_model('drive/MyDrive/my_model')"
      ],
      "metadata": {
        "id": "DNfif11SCIHw"
      },
      "execution_count": 2,
      "outputs": []
    },
    {
      "cell_type": "code",
      "source": [
        "# Saving the Model\n",
        "tf.keras.models.save_model"
      ],
      "metadata": {
        "id": "r8TJNNbK8GyZ",
        "colab": {
          "base_uri": "https://localhost:8080/"
        },
        "outputId": "8d567173-218d-4d2b-fa56-c039aa423906"
      },
      "execution_count": 3,
      "outputs": [
        {
          "output_type": "execute_result",
          "data": {
            "text/plain": [
              "<function keras.saving.save.save_model>"
            ]
          },
          "metadata": {},
          "execution_count": 3
        }
      ]
    },
    {
      "cell_type": "markdown",
      "source": [
        "### Converting saved model from tensorflow SavedModel format (.pb) to .h5 format"
      ],
      "metadata": {
        "id": "aLTtvMs9DJ3n"
      }
    },
    {
      "cell_type": "code",
      "source": [
        "import os\n",
        "import tensorflow as tf\n",
        "from tensorflow.keras.preprocessing import image\n",
        "\n",
        "pb_model_dir = 'drive/MyDrive/my_model'\n",
        "h5_model = 'drive/MyDrive/mymodel.h5'"
      ],
      "metadata": {
        "id": "B2twIzzbC5T4"
      },
      "execution_count": 4,
      "outputs": []
    },
    {
      "cell_type": "code",
      "source": [
        "# Loading the Tensorflow Saved Model (PB)\n",
        "model = tf.keras.models.load_model(pb_model_dir)\n",
        "print(model.summary())"
      ],
      "metadata": {
        "colab": {
          "base_uri": "https://localhost:8080/"
        },
        "id": "iUtMPiS7Dl0_",
        "outputId": "0abe75e7-bb51-4c8e-f224-2a2e88225184"
      },
      "execution_count": 5,
      "outputs": [
        {
          "output_type": "stream",
          "name": "stdout",
          "text": [
            "Model: \"sequential\"\n",
            "_________________________________________________________________\n",
            " Layer (type)                Output Shape              Param #   \n",
            "=================================================================\n",
            " model (Functional)          (None, 7, 7, 7)           1541511   \n",
            "                                                                 \n",
            " flatten (Flatten)           (None, 343)               0         \n",
            "                                                                 \n",
            " dense_1 (Dense)             (None, 64)                22016     \n",
            "                                                                 \n",
            " dropout_1 (Dropout)         (None, 64)                0         \n",
            "                                                                 \n",
            " dense_2 (Dense)             (None, 7)                 455       \n",
            "                                                                 \n",
            "=================================================================\n",
            "Total params: 1,563,982\n",
            "Trainable params: 1,533,070\n",
            "Non-trainable params: 30,912\n",
            "_________________________________________________________________\n",
            "None\n"
          ]
        }
      ]
    },
    {
      "cell_type": "code",
      "source": [
        "# Saving the Model in H5 Format\n",
        "tf.keras.models.save_model(model, h5_model)"
      ],
      "metadata": {
        "id": "zbrWUqeuDmLx"
      },
      "execution_count": 6,
      "outputs": []
    },
    {
      "cell_type": "code",
      "source": [
        "# Loading the H5 Saved Model\n",
        "loaded_model_from_h5 = tf.keras.models.load_model(h5_model)\n",
        "print(loaded_model_from_h5.summary())"
      ],
      "metadata": {
        "colab": {
          "base_uri": "https://localhost:8080/"
        },
        "id": "Hk3CAMnWDmT-",
        "outputId": "e4436afc-1463-4c36-d6f5-4897a8e47af4"
      },
      "execution_count": 7,
      "outputs": [
        {
          "output_type": "stream",
          "name": "stdout",
          "text": [
            "Model: \"sequential\"\n",
            "_________________________________________________________________\n",
            " Layer (type)                Output Shape              Param #   \n",
            "=================================================================\n",
            " model (Functional)          (None, 7, 7, 7)           1541511   \n",
            "                                                                 \n",
            " flatten (Flatten)           (None, 343)               0         \n",
            "                                                                 \n",
            " dense_1 (Dense)             (None, 64)                22016     \n",
            "                                                                 \n",
            " dropout_1 (Dropout)         (None, 64)                0         \n",
            "                                                                 \n",
            " dense_2 (Dense)             (None, 7)                 455       \n",
            "                                                                 \n",
            "=================================================================\n",
            "Total params: 1,563,982\n",
            "Trainable params: 1,533,070\n",
            "Non-trainable params: 30,912\n",
            "_________________________________________________________________\n",
            "None\n"
          ]
        }
      ]
    },
    {
      "cell_type": "markdown",
      "source": [
        "### Local deployment via streamlit"
      ],
      "metadata": {
        "id": "IOb2J8zhEPBf"
      }
    },
    {
      "cell_type": "code",
      "source": [
        "def load_image():\n",
        "    uploaded_file = st.file_uploader(label='Pick an image to test')\n",
        "    if uploaded_file is not None:\n",
        "        image_data = uploaded_file.getvalue()\n",
        "        st.image(image_data)\n",
        "        return Image.open(io.BytesIO(image_data))\n",
        "    else:\n",
        "        return None\n",
        "\n",
        "def load_model():\n",
        "    model = tf.keras.models.load_model('drive/MyDrive/mymodel.h5')\n",
        "    model.eval()\n",
        "    return model\n",
        "\n",
        "def predict():\n",
        "    \n",
        "\n",
        "\n",
        "def main():\n",
        "    st.title('Pretrained image classification model prototype')\n",
        "    model = load_model()\n",
        "    categories = load_labels()\n",
        "    image = load_image()\n",
        "    result = st.button('Run on image')\n",
        "    if result:\n",
        "        st.write('Predicting results...')\n",
        "        predict(model, categories, image)\n",
        "\n",
        "\n",
        "if name == 'main':\n",
        "    main()"
      ],
      "metadata": {
        "id": "0qYUK0NCBY4K"
      },
      "execution_count": null,
      "outputs": []
    }
  ]
}