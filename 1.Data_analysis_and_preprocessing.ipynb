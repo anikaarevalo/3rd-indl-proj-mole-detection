{
 "cells": [
  {
   "cell_type": "markdown",
   "id": "0a25cbe2",
   "metadata": {},
   "source": [
    "## Skin lesion data set pre-processing "
   ]
  },
  {
   "cell_type": "markdown",
   "id": "5655e1f2",
   "metadata": {},
   "source": [
    "### Data tools for file landling and data pre-processing"
   ]
  },
  {
   "cell_type": "code",
   "execution_count": 1,
   "id": "baac1092",
   "metadata": {},
   "outputs": [],
   "source": [
    "# Importing libraries\n",
    "import pandas as pd\n",
    "import numpy as np\n",
    "from tensorflow.keras.preprocessing.image import ImageDataGenerator\n",
    "import os\n",
    "from sklearn.model_selection import train_test_split\n",
    "import shutil"
   ]
  },
  {
   "cell_type": "markdown",
   "id": "2e5adbde",
   "metadata": {},
   "source": [
    "### Preparing directories and folders in preparation for image data manipulation & transfer learning"
   ]
  },
  {
   "cell_type": "code",
   "execution_count": 2,
   "id": "a5596449",
   "metadata": {},
   "outputs": [],
   "source": [
    "# Creating a new directory for the images\n",
    "base_dir = 'base_dir'\n",
    "os.mkdir(base_dir)"
   ]
  },
  {
   "cell_type": "code",
   "execution_count": 3,
   "id": "52ba4c2d",
   "metadata": {},
   "outputs": [],
   "source": [
    "# Training file directory\n",
    "train_dir = os.path.join(base_dir, 'train_dir')\n",
    "os.mkdir(train_dir)"
   ]
  },
  {
   "cell_type": "code",
   "execution_count": 4,
   "id": "619d54ca",
   "metadata": {},
   "outputs": [],
   "source": [
    "# Validating file directory\n",
    "val_dir = os.path.join(base_dir, 'val_dir')\n",
    "os.mkdir(val_dir)"
   ]
  },
  {
   "cell_type": "code",
   "execution_count": 5,
   "id": "e28baab1",
   "metadata": {},
   "outputs": [],
   "source": [
    "# Creating new folders in the training directory for each of the classes\n",
    "nv = os.path.join(train_dir, 'nv')\n",
    "os.mkdir(nv)\n",
    "mel = os.path.join(train_dir, 'mel')\n",
    "os.mkdir(mel)\n",
    "bkl = os.path.join(train_dir, 'bkl')\n",
    "os.mkdir(bkl)\n",
    "bcc = os.path.join(train_dir, 'bcc')\n",
    "os.mkdir(bcc)\n",
    "akiec = os.path.join(train_dir, 'akiec')\n",
    "os.mkdir(akiec)\n",
    "vasc = os.path.join(train_dir, 'vasc')\n",
    "os.mkdir(vasc)\n",
    "df = os.path.join(train_dir, 'df')\n",
    "os.mkdir(df)"
   ]
  },
  {
   "cell_type": "code",
   "execution_count": 6,
   "id": "fe0997d4",
   "metadata": {},
   "outputs": [],
   "source": [
    "# Creating new folders in the validation directory for each of the classes\n",
    "nv = os.path.join(val_dir, 'nv')\n",
    "os.mkdir(nv)\n",
    "mel = os.path.join(val_dir, 'mel')\n",
    "os.mkdir(mel)\n",
    "bkl = os.path.join(val_dir, 'bkl')\n",
    "os.mkdir(bkl)\n",
    "bcc = os.path.join(val_dir, 'bcc')\n",
    "os.mkdir(bcc)\n",
    "akiec = os.path.join(val_dir, 'akiec')\n",
    "os.mkdir(akiec)\n",
    "vasc = os.path.join(val_dir, 'vasc')\n",
    "os.mkdir(vasc)\n",
    "df = os.path.join(val_dir, 'df')\n",
    "os.mkdir(df)"
   ]
  },
  {
   "cell_type": "markdown",
   "id": "f41ae270",
   "metadata": {},
   "source": [
    "### Accessing benchmark skin lesion data set for data pre-processing"
   ]
  },
  {
   "cell_type": "code",
   "execution_count": 7,
   "id": "9c117374",
   "metadata": {},
   "outputs": [],
   "source": [
    "# Read the metadata\n",
    "df = pd.read_csv('/Users/anix/3rd-indl-proj-mole-detection/assets/csvs/HAM10000_metadata.csv')"
   ]
  },
  {
   "cell_type": "code",
   "execution_count": 8,
   "id": "aeff7521",
   "metadata": {},
   "outputs": [
    {
     "data": {
      "text/html": [
       "<div>\n",
       "<style scoped>\n",
       "    .dataframe tbody tr th:only-of-type {\n",
       "        vertical-align: middle;\n",
       "    }\n",
       "\n",
       "    .dataframe tbody tr th {\n",
       "        vertical-align: top;\n",
       "    }\n",
       "\n",
       "    .dataframe thead th {\n",
       "        text-align: right;\n",
       "    }\n",
       "</style>\n",
       "<table border=\"1\" class=\"dataframe\">\n",
       "  <thead>\n",
       "    <tr style=\"text-align: right;\">\n",
       "      <th></th>\n",
       "      <th>lesion_id</th>\n",
       "      <th>image_id</th>\n",
       "      <th>dx</th>\n",
       "      <th>dx_type</th>\n",
       "      <th>age</th>\n",
       "      <th>sex</th>\n",
       "      <th>localization</th>\n",
       "    </tr>\n",
       "  </thead>\n",
       "  <tbody>\n",
       "    <tr>\n",
       "      <th>0</th>\n",
       "      <td>HAM_0000118</td>\n",
       "      <td>ISIC_0027419</td>\n",
       "      <td>bkl</td>\n",
       "      <td>histo</td>\n",
       "      <td>80.0</td>\n",
       "      <td>male</td>\n",
       "      <td>scalp</td>\n",
       "    </tr>\n",
       "    <tr>\n",
       "      <th>1</th>\n",
       "      <td>HAM_0000118</td>\n",
       "      <td>ISIC_0025030</td>\n",
       "      <td>bkl</td>\n",
       "      <td>histo</td>\n",
       "      <td>80.0</td>\n",
       "      <td>male</td>\n",
       "      <td>scalp</td>\n",
       "    </tr>\n",
       "    <tr>\n",
       "      <th>2</th>\n",
       "      <td>HAM_0002730</td>\n",
       "      <td>ISIC_0026769</td>\n",
       "      <td>bkl</td>\n",
       "      <td>histo</td>\n",
       "      <td>80.0</td>\n",
       "      <td>male</td>\n",
       "      <td>scalp</td>\n",
       "    </tr>\n",
       "    <tr>\n",
       "      <th>3</th>\n",
       "      <td>HAM_0002730</td>\n",
       "      <td>ISIC_0025661</td>\n",
       "      <td>bkl</td>\n",
       "      <td>histo</td>\n",
       "      <td>80.0</td>\n",
       "      <td>male</td>\n",
       "      <td>scalp</td>\n",
       "    </tr>\n",
       "    <tr>\n",
       "      <th>4</th>\n",
       "      <td>HAM_0001466</td>\n",
       "      <td>ISIC_0031633</td>\n",
       "      <td>bkl</td>\n",
       "      <td>histo</td>\n",
       "      <td>75.0</td>\n",
       "      <td>male</td>\n",
       "      <td>ear</td>\n",
       "    </tr>\n",
       "  </tbody>\n",
       "</table>\n",
       "</div>"
      ],
      "text/plain": [
       "     lesion_id      image_id   dx dx_type   age   sex localization\n",
       "0  HAM_0000118  ISIC_0027419  bkl   histo  80.0  male        scalp\n",
       "1  HAM_0000118  ISIC_0025030  bkl   histo  80.0  male        scalp\n",
       "2  HAM_0002730  ISIC_0026769  bkl   histo  80.0  male        scalp\n",
       "3  HAM_0002730  ISIC_0025661  bkl   histo  80.0  male        scalp\n",
       "4  HAM_0001466  ISIC_0031633  bkl   histo  75.0  male          ear"
      ]
     },
     "execution_count": 8,
     "metadata": {},
     "output_type": "execute_result"
    }
   ],
   "source": [
    "# Showing some information about the data frame created from the data set\n",
    "df.head()"
   ]
  },
  {
   "cell_type": "code",
   "execution_count": 9,
   "id": "61750e5b",
   "metadata": {},
   "outputs": [],
   "source": [
    "# Set column 'dx' as the labels\n",
    "y = df['dx']"
   ]
  },
  {
   "cell_type": "code",
   "execution_count": 10,
   "id": "993333fb",
   "metadata": {},
   "outputs": [],
   "source": [
    "# Splitting the metadata into training and validation\n",
    "df_train, df_val = train_test_split(df, test_size=0.1, random_state=101, stratify=y)"
   ]
  },
  {
   "cell_type": "code",
   "execution_count": 11,
   "id": "662cf290",
   "metadata": {},
   "outputs": [
    {
     "name": "stdout",
     "output_type": "stream",
     "text": [
      "(9013, 7)\n",
      "(1002, 7)\n"
     ]
    }
   ],
   "source": [
    "# Printing the shape of the training and validation split\n",
    "print(df_train.shape)\n",
    "print(df_val.shape)"
   ]
  },
  {
   "cell_type": "code",
   "execution_count": 12,
   "id": "c2be154e",
   "metadata": {},
   "outputs": [
    {
     "data": {
      "text/plain": [
       "nv       671\n",
       "mel      111\n",
       "bkl      110\n",
       "bcc       51\n",
       "akiec     33\n",
       "vasc      14\n",
       "df        12\n",
       "Name: dx, dtype: int64"
      ]
     },
     "execution_count": 12,
     "metadata": {},
     "output_type": "execute_result"
    }
   ],
   "source": [
    "# Finding the number of values in the training and validation set\n",
    "df_train['dx'].value_counts()\n",
    "df_val['dx'].value_counts() # Outputs number of values in the validation set "
   ]
  },
  {
   "cell_type": "markdown",
   "id": "35fe2a0e",
   "metadata": {},
   "source": [
    "### Allocating image data samples to images for training and images for validation"
   ]
  },
  {
   "cell_type": "code",
   "execution_count": 13,
   "id": "451ffc26",
   "metadata": {},
   "outputs": [],
   "source": [
    "# Transfering the images into folders\n",
    "# Setting the image ID as the index\n",
    "df.set_index('image_id', inplace=True)"
   ]
  },
  {
   "cell_type": "code",
   "execution_count": 14,
   "id": "5044bb7e",
   "metadata": {},
   "outputs": [],
   "source": [
    "# Getting a list of images in the 'full' folder of ham10000 images\n",
    "folder = os.listdir('/Users/anix/3rd-indl-proj-mole-detection/assets/full')"
   ]
  },
  {
   "cell_type": "code",
   "execution_count": 15,
   "id": "bece478c",
   "metadata": {},
   "outputs": [],
   "source": [
    "# Getting a list of train and val images\n",
    "train_list = list(df_train['image_id'])\n",
    "val_list = list(df_val['image_id'])"
   ]
  },
  {
   "cell_type": "code",
   "execution_count": 17,
   "id": "01016e7f",
   "metadata": {},
   "outputs": [],
   "source": [
    "# Transferring the training images\n",
    "for image in train_list:\n",
    "\n",
    "    fname = image + '.jpg'\n",
    "    label = df.loc[image, 'dx']\n",
    "\n",
    "    if fname in folder:\n",
    "        # Source path to image\n",
    "        src = os.path.join('/Users/anix/3rd-indl-proj-mole-detection/assets/full', fname)\n",
    "        # Destination path to image\n",
    "        dst = os.path.join(train_dir, label, fname)\n",
    "        # Copying an image from the source to the destination\n",
    "        shutil.copyfile(src, dst)"
   ]
  },
  {
   "cell_type": "code",
   "execution_count": 18,
   "id": "619d41e5",
   "metadata": {},
   "outputs": [],
   "source": [
    "# Transferring the validation images\n",
    "for image in val_list:\n",
    "\n",
    "    fname = image + '.jpg'\n",
    "    label = df.loc[image, 'dx']\n",
    "\n",
    "    if fname in folder:\n",
    "        # Source path to image\n",
    "        src = os.path.join('/Users/anix/3rd-indl-proj-mole-detection/assets/full', fname)\n",
    "        # Destination path to image\n",
    "        dst = os.path.join(val_dir, label, fname)\n",
    "        # Copying an image from the source to the destination\n",
    "        shutil.copyfile(src, dst)"
   ]
  },
  {
   "cell_type": "code",
   "execution_count": 19,
   "id": "c8a69bf6",
   "metadata": {},
   "outputs": [
    {
     "name": "stdout",
     "output_type": "stream",
     "text": [
      "6034\n",
      "1002\n",
      "989\n",
      "463\n",
      "294\n",
      "128\n",
      "103\n"
     ]
    }
   ],
   "source": [
    "# Checking how many training images are in each folder\n",
    "print(len(os.listdir('base_dir/train_dir/nv')))\n",
    "print(len(os.listdir('base_dir/train_dir/mel')))\n",
    "print(len(os.listdir('base_dir/train_dir/bkl')))\n",
    "print(len(os.listdir('base_dir/train_dir/bcc')))\n",
    "print(len(os.listdir('base_dir/train_dir/akiec')))\n",
    "print(len(os.listdir('base_dir/train_dir/vasc')))\n",
    "print(len(os.listdir('base_dir/train_dir/df')))"
   ]
  },
  {
   "cell_type": "code",
   "execution_count": 20,
   "id": "3d891085",
   "metadata": {},
   "outputs": [
    {
     "name": "stdout",
     "output_type": "stream",
     "text": [
      "671\n",
      "111\n",
      "110\n",
      "51\n",
      "33\n",
      "14\n",
      "12\n"
     ]
    }
   ],
   "source": [
    "# Check how many validation images are in each folder\n",
    "print(len(os.listdir('base_dir/val_dir/nv')))\n",
    "print(len(os.listdir('base_dir/val_dir/mel')))\n",
    "print(len(os.listdir('base_dir/val_dir/bkl')))\n",
    "print(len(os.listdir('base_dir/val_dir/bcc')))\n",
    "print(len(os.listdir('base_dir/val_dir/akiec')))\n",
    "print(len(os.listdir('base_dir/val_dir/vasc')))\n",
    "print(len(os.listdir('base_dir/val_dir/df')))"
   ]
  },
  {
   "cell_type": "markdown",
   "id": "686242e2",
   "metadata": {},
   "source": [
    "'The **principal problem of the HAM10000 database** is **classes imbalance** and the **irregular distribution of skin disease numbers**. NV class <is almost 70%> of the total image numbers. This factor influences the training and creates an extreme imbalance database. The second large class is BKL, with approximately 13% of the pictures. The other classes contribute a minority number of the images. Especially, less than 2% of the total images belong to the DF class, which is the most difficult class for prediction.' From https://www.mdpi.com/2076-3417/12/5/2677/htm"
   ]
  },
  {
   "cell_type": "markdown",
   "id": "13935e23",
   "metadata": {},
   "source": [
    "### Data augmentation with Keras ImageDataGenerator"
   ]
  },
  {
   "cell_type": "code",
   "execution_count": 21,
   "id": "012a23fd",
   "metadata": {},
   "outputs": [
    {
     "name": "stdout",
     "output_type": "stream",
     "text": [
      "Found 1002 images belonging to 1 classes.\n",
      "Found 989 images belonging to 1 classes.\n",
      "Found 463 images belonging to 1 classes.\n",
      "Found 294 images belonging to 1 classes.\n",
      "Found 128 images belonging to 1 classes.\n",
      "Found 103 images belonging to 1 classes.\n"
     ]
    }
   ],
   "source": [
    "# Improving data quality by creating synthetically modified data from available training data in\n",
    "# anticipation of leveraging metrics of a pre-trained CNN for image classification\n",
    "\n",
    "# Class 'nv' is not going to be augmented\n",
    "class_list = ['mel', 'bkl', 'bcc', 'akiec', 'vasc', 'df']\n",
    "\n",
    "for item in class_list:\n",
    "\n",
    "    # Creating a temporary directory for the augmented images\n",
    "    aug_dir = 'aug_dir'\n",
    "    os.mkdir(aug_dir)\n",
    "\n",
    "    # Creating a directory within the base dir to store images of the same class\n",
    "    img_dir = os.path.join(aug_dir, 'img_dir')\n",
    "    os.mkdir(img_dir)\n",
    "\n",
    "    # Choosing a class\n",
    "    img_class = item\n",
    "\n",
    "    # List all the images in the directory\n",
    "    img_list = os.listdir('base_dir/train_dir/' + img_class)\n",
    "\n",
    "    # Copying images from the class train dir to the img_dir\n",
    "    for fname in img_list:\n",
    "        # Source path to image\n",
    "        src = os.path.join('base_dir/train_dir/' + img_class, fname)\n",
    "        # Destination path to image\n",
    "        dst = os.path.join(img_dir, fname)\n",
    "        # Copy the image from the source to the destination\n",
    "        shutil.copyfile(src, dst)\n",
    "\n",
    "    # Pointing to a directory containing the images and not to the images themselves\n",
    "    path = aug_dir\n",
    "    save_path = 'base_dir/train_dir/' + img_class\n",
    "\n",
    "    # Creating a data generator to augment the images in real time\n",
    "    datagen = ImageDataGenerator(\n",
    "        rotation_range=180,\n",
    "        width_shift_range=0.1,\n",
    "        height_shift_range=0.1,\n",
    "        zoom_range=0.1,\n",
    "        horizontal_flip=True,\n",
    "        vertical_flip=True,\n",
    "        # Brightness_range=(0.9,1.1),\n",
    "        fill_mode='nearest')\n",
    "\n",
    "    batch_size = 50\n",
    "\n",
    "    aug_datagen = datagen.flow_from_directory(path,\n",
    "                                              save_to_dir=save_path,\n",
    "                                              save_format='jpg',\n",
    "                                              target_size=(224, 224),\n",
    "                                              batch_size=batch_size)\n",
    "\n",
    "    # Generate the augmented images and add them to the training folders\n",
    "    num_aug_images_wanted = 6000  # Total number of images we want to have in each class matching class 'nv'\n",
    "    num_files = len(os.listdir(img_dir))\n",
    "    num_batches = int(np.ceil((num_aug_images_wanted - num_files) / batch_size))\n",
    "\n",
    "    # Running the generator and create about 6000 augmented images\n",
    "    for i in range(0, num_batches):\n",
    "        imgs, labels = next(aug_datagen)\n",
    "\n",
    "    # Deleting temporary directory with the raw image files\n",
    "    shutil.rmtree('aug_dir')"
   ]
  },
  {
   "cell_type": "code",
   "execution_count": 22,
   "id": "63ea0844",
   "metadata": {},
   "outputs": [
    {
     "name": "stdout",
     "output_type": "stream",
     "text": [
      "6034\n",
      "5810\n",
      "5984\n",
      "5606\n",
      "5930\n",
      "5170\n",
      "4170\n"
     ]
    }
   ],
   "source": [
    "# Checking how many train images are each folder (original + augmented)\n",
    "print(len(os.listdir('base_dir/train_dir/nv')))\n",
    "print(len(os.listdir('base_dir/train_dir/mel')))\n",
    "print(len(os.listdir('base_dir/train_dir/bkl')))\n",
    "print(len(os.listdir('base_dir/train_dir/bcc')))\n",
    "print(len(os.listdir('base_dir/train_dir/akiec')))\n",
    "print(len(os.listdir('base_dir/train_dir/vasc')))\n",
    "print(len(os.listdir('base_dir/train_dir/df')))"
   ]
  },
  {
   "cell_type": "markdown",
   "id": "874a6aae",
   "metadata": {},
   "source": [
    "**NOTE:** From 9,013 training data, there's now a total of **38,704 training data samples** "
   ]
  },
  {
   "cell_type": "code",
   "execution_count": 23,
   "id": "aff49bae",
   "metadata": {},
   "outputs": [
    {
     "name": "stdout",
     "output_type": "stream",
     "text": [
      "671\n",
      "111\n",
      "110\n",
      "51\n",
      "33\n",
      "14\n",
      "12\n"
     ]
    }
   ],
   "source": [
    "# Checking how many validation images are in each folder\n",
    "print(len(os.listdir('base_dir/val_dir/nv')))\n",
    "print(len(os.listdir('base_dir/val_dir/mel')))\n",
    "print(len(os.listdir('base_dir/val_dir/bkl')))\n",
    "print(len(os.listdir('base_dir/val_dir/bcc')))\n",
    "print(len(os.listdir('base_dir/val_dir/akiec')))\n",
    "print(len(os.listdir('base_dir/val_dir/vasc')))\n",
    "print(len(os.listdir('base_dir/val_dir/df')))"
   ]
  },
  {
   "cell_type": "markdown",
   "id": "515eea75",
   "metadata": {},
   "source": [
    "To refresh the memory, our **validation data** remains at 1,002 samples"
   ]
  }
 ],
 "metadata": {
  "kernelspec": {
   "display_name": "tf",
   "language": "python",
   "name": "tf"
  },
  "language_info": {
   "codemirror_mode": {
    "name": "ipython",
    "version": 3
   },
   "file_extension": ".py",
   "mimetype": "text/x-python",
   "name": "python",
   "nbconvert_exporter": "python",
   "pygments_lexer": "ipython3",
   "version": "3.7.13"
  }
 },
 "nbformat": 4,
 "nbformat_minor": 5
}
