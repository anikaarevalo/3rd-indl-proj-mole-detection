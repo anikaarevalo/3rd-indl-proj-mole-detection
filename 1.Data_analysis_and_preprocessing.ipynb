{
 "cells": [
  {
   "cell_type": "markdown",
   "id": "2daf5e61",
   "metadata": {},
   "source": [
    "## Mole data set pre-processing "
   ]
  },
  {
   "cell_type": "code",
   "execution_count": null,
   "id": "39255b85",
   "metadata": {},
   "outputs": [],
   "source": [
    "# Importing Libraries\n",
    "import pandas as pd\n",
    "import numpy as np\n",
    "from tensorflow.keras.preprocessing.image import ImageDataGenerator\n",
    "import os\n",
    "from sklearn.model_selection import train_test_split\n",
    "import shutil"
   ]
  },
  {
   "cell_type": "code",
   "execution_count": null,
   "id": "75316215",
   "metadata": {},
   "outputs": [],
   "source": [
    "# Creating a new directory for the images\n",
    "base_dir = 'base_dir'\n",
    "os.mkdir(base_dir)"
   ]
  },
  {
   "cell_type": "code",
   "execution_count": null,
   "id": "cd460cf0",
   "metadata": {},
   "outputs": [],
   "source": [
    "# Training file directory\n",
    "train_dir = os.path.join(base_dir, 'train_dir')\n",
    "os.mkdir(train_dir)"
   ]
  },
  {
   "cell_type": "code",
   "execution_count": null,
   "id": "9fe5f9e7",
   "metadata": {},
   "outputs": [],
   "source": [
    "# Validatiing file directory\n",
    "val_dir = os.path.join(base_dir, 'val_dir')\n",
    "os.mkdir(val_dir)"
   ]
  },
  {
   "cell_type": "code",
   "execution_count": null,
   "id": "1446f8cb",
   "metadata": {},
   "outputs": [],
   "source": [
    "# Creating new folders in the training directory for each of the classes\n",
    "nv = os.path.join(train_dir, 'nv')\n",
    "os.mkdir(nv)\n",
    "mel = os.path.join(train_dir, 'mel')\n",
    "os.mkdir(mel)\n",
    "bkl = os.path.join(train_dir, 'bkl')\n",
    "os.mkdir(bkl)\n",
    "bcc = os.path.join(train_dir, 'bcc')\n",
    "os.mkdir(bcc)\n",
    "akiec = os.path.join(train_dir, 'akiec')\n",
    "os.mkdir(akiec)\n",
    "vasc = os.path.join(train_dir, 'vasc')\n",
    "os.mkdir(vasc)\n",
    "df = os.path.join(train_dir, 'df')\n",
    "os.mkdir(df)"
   ]
  },
  {
   "cell_type": "code",
   "execution_count": null,
   "id": "9fffba4a",
   "metadata": {},
   "outputs": [],
   "source": [
    "# Creating new folders in the validation directory for each of the classes\n",
    "nv = os.path.join(val_dir, 'nv')\n",
    "os.mkdir(nv)\n",
    "mel = os.path.join(val_dir, 'mel')\n",
    "os.mkdir(mel)\n",
    "bkl = os.path.join(val_dir, 'bkl')\n",
    "os.mkdir(bkl)\n",
    "bcc = os.path.join(val_dir, 'bcc')\n",
    "os.mkdir(bcc)\n",
    "akiec = os.path.join(val_dir, 'akiec')\n",
    "os.mkdir(akiec)\n",
    "vasc = os.path.join(val_dir, 'vasc')\n",
    "os.mkdir(vasc)\n",
    "df = os.path.join(val_dir, 'df')\n",
    "os.mkdir(df)"
   ]
  },
  {
   "cell_type": "code",
   "execution_count": null,
   "id": "5e7d40f7",
   "metadata": {},
   "outputs": [],
   "source": [
    "# Read the metadata\n",
    "df = pd.read_csv('/Users/anix/3rd-indl-proj-mole-detection/assets/csvs/HAM10000_metadata.csv')"
   ]
  },
  {
   "cell_type": "code",
   "execution_count": null,
   "id": "a0512168",
   "metadata": {},
   "outputs": [],
   "source": [
    "# Showing some information about the data frame created from the data set\n",
    "df.head()"
   ]
  },
  {
   "cell_type": "code",
   "execution_count": null,
   "id": "a92a9d14",
   "metadata": {},
   "outputs": [],
   "source": [
    "# Set y as the labels\n",
    "y = df['dx']"
   ]
  },
  {
   "cell_type": "code",
   "execution_count": null,
   "id": "a86f9538",
   "metadata": {},
   "outputs": [],
   "source": [
    "# Splitting the metadata into training and validation\n",
    "df_train, df_val = train_test_split(df, test_size=0.1, random_state=101, stratify=y)"
   ]
  },
  {
   "cell_type": "code",
   "execution_count": null,
   "id": "6da696b5",
   "metadata": {},
   "outputs": [],
   "source": [
    "# Printing the shape of the training and validation split\n",
    "print(df_train.shape)\n",
    "print(df_val.shape)"
   ]
  },
  {
   "cell_type": "code",
   "execution_count": null,
   "id": "09795e3e",
   "metadata": {},
   "outputs": [],
   "source": [
    "# Finding the number of values in the training and validation set\n",
    "df_train['dx'].value_counts()\n",
    "df_val['dx'].value_counts()"
   ]
  },
  {
   "cell_type": "code",
   "execution_count": null,
   "id": "5c281bd5",
   "metadata": {},
   "outputs": [],
   "source": [
    "# Transfering the images into folders\n",
    "# Setting the image id as the index\n",
    "df.set_index('image_id', inplace=True)"
   ]
  },
  {
   "cell_type": "code",
   "execution_count": null,
   "id": "1dab782c",
   "metadata": {},
   "outputs": [],
   "source": [
    "# Getting a list of images in the 'full' folder of ham10000 images\n",
    "folder = os.listdir('/Users/anix/3rd-indl-proj-mole-detection/assets/full')"
   ]
  },
  {
   "cell_type": "code",
   "execution_count": null,
   "id": "557eafd8",
   "metadata": {},
   "outputs": [],
   "source": [
    "# Getting a list of train and val images\n",
    "train_list = list(df_train['image_id'])\n",
    "val_list = list(df_val['image_id'])"
   ]
  },
  {
   "cell_type": "code",
   "execution_count": null,
   "id": "7449ff3f",
   "metadata": {},
   "outputs": [],
   "source": [
    "# Transferring the training images\n",
    "for image in train_list:\n",
    "\n",
    "    fname = image + '.jpg'\n",
    "    label = df.loc[image, 'dx']\n",
    "\n",
    "    if fname in folder:\n",
    "        # Source path to image\n",
    "        src = os.path.join('/Users/anix/3rd-indl-proj-mole-detection/assets/full', fname)\n",
    "        # Destination path to image\n",
    "        dst = os.path.join(train_dir, label, fname)\n",
    "        # Copying the image from the source to the destination\n",
    "        shutil.copyfile(src, dst)"
   ]
  },
  {
   "cell_type": "code",
   "execution_count": null,
   "id": "4dd9f567",
   "metadata": {},
   "outputs": [],
   "source": [
    "# Transferring the validation images\n",
    "for image in val_list:\n",
    "\n",
    "    fname = image + '.jpg'\n",
    "    label = df.loc[image, 'dx']\n",
    "\n",
    "    if fname in folder:\n",
    "        # Source path to image\n",
    "        src = os.path.join('/Users/anix/3rd-indl-proj-mole-detection/assets/full', fname)\n",
    "        # Destination path to image\n",
    "        dst = os.path.join(val_dir, label, fname)\n",
    "        # Copying the image from the source to the destination\n",
    "        shutil.copyfile(src, dst)"
   ]
  },
  {
   "cell_type": "code",
   "execution_count": null,
   "id": "88c2a98f",
   "metadata": {},
   "outputs": [],
   "source": [
    "# Checking how many training images are in each folder\n",
    "print(len(os.listdir('base_dir/train_dir/nv')))\n",
    "print(len(os.listdir('base_dir/train_dir/mel')))\n",
    "print(len(os.listdir('base_dir/train_dir/bkl')))\n",
    "print(len(os.listdir('base_dir/train_dir/bcc')))\n",
    "print(len(os.listdir('base_dir/train_dir/akiec')))\n",
    "print(len(os.listdir('base_dir/train_dir/vasc')))\n",
    "print(len(os.listdir('base_dir/train_dir/df')))"
   ]
  },
  {
   "cell_type": "code",
   "execution_count": null,
   "id": "df4b3450",
   "metadata": {},
   "outputs": [],
   "source": [
    "# Check how many validation images are in each folder\n",
    "print(len(os.listdir('base_dir/val_dir/nv')))\n",
    "print(len(os.listdir('base_dir/val_dir/mel')))\n",
    "print(len(os.listdir('base_dir/val_dir/bkl')))\n",
    "print(len(os.listdir('base_dir/val_dir/bcc')))\n",
    "print(len(os.listdir('base_dir/val_dir/akiec')))\n",
    "print(len(os.listdir('base_dir/val_dir/vasc')))\n",
    "print(len(os.listdir('base_dir/val_dir/df')))"
   ]
  },
  {
   "cell_type": "code",
   "execution_count": null,
   "id": "9ae0ee0e",
   "metadata": {},
   "outputs": [],
   "source": [
    "# Augmenting the data\n",
    "# Class 'nv' is not going to be augmented\n",
    "class_list = ['mel', 'bkl', 'bcc', 'akiec', 'vasc', 'df']\n",
    "\n",
    "for item in class_list:\n",
    "\n",
    "    # Creating a temporary directory for the augmented images\n",
    "    aug_dir = 'aug_dir'\n",
    "    os.mkdir(aug_dir)\n",
    "\n",
    "    # Creating a directory within the base dir to store images of the same class\n",
    "    img_dir = os.path.join(aug_dir, 'img_dir')\n",
    "    os.mkdir(img_dir)\n",
    "\n",
    "    # Choosing a class\n",
    "    img_class = item\n",
    "\n",
    "    # List all the images in the directory\n",
    "    img_list = os.listdir('base_dir/train_dir/' + img_class)\n",
    "\n",
    "    # Copying images from the class train dir to the img_dir\n",
    "    for fname in img_list:\n",
    "        # Source path to image\n",
    "        src = os.path.join('base_dir/train_dir/' + img_class, fname)\n",
    "        # Destination path to image\n",
    "        dst = os.path.join(img_dir, fname)\n",
    "        # Copy the image from the source to the destination\n",
    "        shutil.copyfile(src, dst)\n",
    "\n",
    "    # Pointing to a directory containing the images and not to the images themselves\n",
    "    path = aug_dir\n",
    "    save_path = 'base_dir/train_dir/' + img_class\n",
    "\n",
    "    # Creating a data generator to augment the images in real time\n",
    "    datagen = ImageDataGenerator(\n",
    "        rotation_range=180,\n",
    "        width_shift_range=0.1,\n",
    "        height_shift_range=0.1,\n",
    "        zoom_range=0.1,\n",
    "        horizontal_flip=True,\n",
    "        vertical_flip=True,\n",
    "        # Brightness_range=(0.9,1.1),\n",
    "        fill_mode='nearest')\n",
    "\n",
    "    batch_size = 50\n",
    "\n",
    "    aug_datagen = datagen.flow_from_directory(path,\n",
    "                                              save_to_dir=save_path,\n",
    "                                              save_format='jpg',\n",
    "                                              target_size=(224, 224),\n",
    "                                              batch_size=batch_size)\n",
    "\n",
    "    # Generate the augmented images and add them to the training folders\n",
    "    num_aug_images_wanted = 6000  # total number of images we want to have in each class\n",
    "    num_files = len(os.listdir(img_dir))\n",
    "    num_batches = int(np.ceil((num_aug_images_wanted - num_files) / batch_size))\n",
    "\n",
    "    # Running the generator and create about 6000 augmented images\n",
    "    for i in range(0, num_batches):\n",
    "        imgs, labels = next(aug_datagen)\n",
    "\n",
    "    # Deleting temporary directory with the raw image files\n",
    "    shutil.rmtree('aug_dir')"
   ]
  },
  {
   "cell_type": "code",
   "execution_count": null,
   "id": "4dd949b8",
   "metadata": {},
   "outputs": [],
   "source": [
    "# Checking how many train images are each folder (original + augmented)\n",
    "print(len(os.listdir('base_dir/train_dir/nv')))\n",
    "print(len(os.listdir('base_dir/train_dir/mel')))\n",
    "print(len(os.listdir('base_dir/train_dir/bkl')))\n",
    "print(len(os.listdir('base_dir/train_dir/bcc')))\n",
    "print(len(os.listdir('base_dir/train_dir/akiec')))\n",
    "print(len(os.listdir('base_dir/train_dir/vasc')))\n",
    "print(len(os.listdir('base_dir/train_dir/df')))"
   ]
  },
  {
   "cell_type": "code",
   "execution_count": null,
   "id": "20492745",
   "metadata": {},
   "outputs": [],
   "source": [
    "# Checking how many validation images are in each folder\n",
    "print(len(os.listdir('base_dir/val_dir/nv')))\n",
    "print(len(os.listdir('base_dir/val_dir/mel')))\n",
    "print(len(os.listdir('base_dir/val_dir/bkl')))\n",
    "print(len(os.listdir('base_dir/val_dir/bcc')))\n",
    "print(len(os.listdir('base_dir/val_dir/akiec')))\n",
    "print(len(os.listdir('base_dir/val_dir/vasc')))\n",
    "print(len(os.listdir('base_dir/val_dir/df')))"
   ]
  }
 ],
 "metadata": {
  "kernelspec": {
   "display_name": "tf",
   "language": "python",
   "name": "tf"
  },
  "language_info": {
   "codemirror_mode": {
    "name": "ipython",
    "version": 3
   },
   "file_extension": ".py",
   "mimetype": "text/x-python",
   "name": "python",
   "nbconvert_exporter": "python",
   "pygments_lexer": "ipython3",
   "version": "3.7.13"
  }
 },
 "nbformat": 4,
 "nbformat_minor": 5
}
