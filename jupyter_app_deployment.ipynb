{
 "cells": [
  {
   "cell_type": "markdown",
   "metadata": {
    "id": "gsjGNV7OBg3E"
   },
   "source": [
    "## Deploying the mole detection app locally via streamlit"
   ]
  },
  {
   "cell_type": "markdown",
   "metadata": {
    "id": "BNXqCX7aD6nw"
   },
   "source": [
    "### Loading the model"
   ]
  },
  {
   "cell_type": "code",
   "execution_count": null,
   "metadata": {
    "id": "KTeKj95DCpnf"
   },
   "outputs": [],
   "source": [
    "import numpy as np\n",
    "import tensorflow as tf\n",
    "from tensorflow import keras"
   ]
  },
  {
   "cell_type": "code",
   "execution_count": null,
   "metadata": {
    "id": "DNfif11SCIHw"
   },
   "outputs": [],
   "source": [
    "# Loading the Tensorflow Saved Model (PB)\n",
    "model = tf.keras.models.load_model('drive/MyDrive/my_model')"
   ]
  },
  {
   "cell_type": "code",
   "execution_count": null,
   "metadata": {
    "colab": {
     "base_uri": "https://localhost:8080/"
    },
    "id": "r8TJNNbK8GyZ",
    "outputId": "8d567173-218d-4d2b-fa56-c039aa423906"
   },
   "outputs": [],
   "source": [
    "# Saving the Model\n",
    "tf.keras.models.save_model"
   ]
  },
  {
   "cell_type": "markdown",
   "metadata": {
    "id": "aLTtvMs9DJ3n"
   },
   "source": [
    "### Converting saved model from tensorflow SavedModel format (.pb) to .h5 format"
   ]
  },
  {
   "cell_type": "code",
   "execution_count": null,
   "metadata": {
    "id": "B2twIzzbC5T4"
   },
   "outputs": [],
   "source": [
    "import os\n",
    "import tensorflow as tf\n",
    "from tensorflow.keras.preprocessing import image\n",
    "\n",
    "pb_model_dir = 'drive/MyDrive/my_model'\n",
    "h5_model = 'drive/MyDrive/mymodel.h5'"
   ]
  },
  {
   "cell_type": "code",
   "execution_count": null,
   "metadata": {
    "colab": {
     "base_uri": "https://localhost:8080/"
    },
    "id": "iUtMPiS7Dl0_",
    "outputId": "0abe75e7-bb51-4c8e-f224-2a2e88225184"
   },
   "outputs": [],
   "source": [
    "# Loading the Tensorflow Saved Model (PB)\n",
    "model = tf.keras.models.load_model(pb_model_dir)\n",
    "print(model.summary())"
   ]
  },
  {
   "cell_type": "code",
   "execution_count": null,
   "metadata": {
    "id": "zbrWUqeuDmLx"
   },
   "outputs": [],
   "source": [
    "# Saving the Model in H5 Format\n",
    "tf.keras.models.save_model(model, h5_model)"
   ]
  },
  {
   "cell_type": "code",
   "execution_count": null,
   "metadata": {
    "colab": {
     "base_uri": "https://localhost:8080/"
    },
    "id": "Hk3CAMnWDmT-",
    "outputId": "e4436afc-1463-4c36-d6f5-4897a8e47af4"
   },
   "outputs": [],
   "source": [
    "# Loading the H5 Saved Model\n",
    "loaded_model_from_h5 = tf.keras.models.load_model(h5_model)\n",
    "print(loaded_model_from_h5.summary())"
   ]
  },
  {
   "cell_type": "markdown",
   "metadata": {
    "id": "IOb2J8zhEPBf"
   },
   "source": [
    "### Local deployment via streamlit"
   ]
  },
  {
   "cell_type": "code",
   "execution_count": null,
   "metadata": {},
   "outputs": [],
   "source": [
    "import streamlit as st\n",
    "\n",
    "def load_image():\n",
    "    uploaded_file = st.file_uploader(label='Pick an image to test')\n",
    "    if uploaded_file is not None:\n",
    "        image_data = uploaded_file.getvalue()\n",
    "        st.image(image_data)\n",
    "        return Image.open(io.BytesIO(image_data))\n",
    "    else:\n",
    "        return None\n",
    "    test_image = image.load_img('drive/MyDrive/base_dir/val_dir/vasc/ISIC_0024747.jpg', target_size = (224, 224)) \n",
    "    test_image = image.img_to_array(test_image)\n",
    "    test_image = np.expand_dims(test_image, axis = 0)\n",
    "\n",
    "    model = tf.keras.models.load_model('drive/MyDrive/mymodel.h5')\n",
    "    result = model.predict(test_image)\n",
    "    classes = ['akiec', 'bcc', 'bkl', 'df', 'mel', 'nv', 'vasc']\n",
    "    zip_iterator = zip(classes, result[0])\n",
    "    classification = dict(zip_iterator)\n",
    "    verdict = max(classification, key=classification.get)\n",
    "    return 'Your skin lesion is most likely:'+ verdict\n",
    "\n",
    "def main():\n",
    "    st.title('Pretrained image classification model prototype')\n",
    "    image = load_image()\n",
    "    result = st.button('Run on image')\n",
    "    if result:\n",
    "        st.write('Predicting results...')\n",
    "        predict(model, categories, image)\n",
    "\n",
    "\n",
    "if __name__ == \"__main__\":\n",
    "    main()"
   ]
  }
 ],
 "metadata": {
  "colab": {
   "name": "Local_app_deployment_via_streamlit.ipynb",
   "provenance": []
  },
  "kernelspec": {
   "display_name": "Python 3 (ipykernel)",
   "language": "python",
   "name": "python3"
  },
  "language_info": {
   "codemirror_mode": {
    "name": "ipython",
    "version": 3
   },
   "file_extension": ".py",
   "mimetype": "text/x-python",
   "name": "python",
   "nbconvert_exporter": "python",
   "pygments_lexer": "ipython3",
   "version": "3.9.7"
  }
 },
 "nbformat": 4,
 "nbformat_minor": 1
}
