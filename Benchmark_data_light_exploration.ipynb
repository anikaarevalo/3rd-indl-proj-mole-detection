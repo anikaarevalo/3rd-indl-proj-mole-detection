{
 "cells": [
  {
   "cell_type": "markdown",
   "id": "49ab21e6",
   "metadata": {},
   "source": [
    "### Checking basic statistical information on the meta data"
   ]
  },
  {
   "cell_type": "code",
   "execution_count": 3,
   "id": "6876b344",
   "metadata": {},
   "outputs": [],
   "source": [
    "# Importing python data analysis tools and a library to access & load benchmark data set\n",
    "# Choosing plot style as well \n",
    "from sklearn import datasets\n",
    "import pandas as pd\n",
    "import numpy as np\n",
    "import seaborn as sns\n",
    "import matplotlib.pyplot as plt\n",
    "plt.style.use('ggplot')"
   ]
  },
  {
   "cell_type": "code",
   "execution_count": 4,
   "id": "0390c650",
   "metadata": {},
   "outputs": [],
   "source": [
    "# Accessing the benchmark data set of skin lesions from a csv file from a data base via Kaggle \n",
    "# (https://www.kaggle.com/datasets/kmader/skin-cancer-mnist-ham10000)\n",
    "# and passing it into a pandas dataframe\n",
    "# Printing all the field names of all the columns in the data.\n",
    "# Getting info on the shape of the data frame\n",
    "with open('/Users/anix/3rd-indl-proj-mole-detection/assets/csvs/HAM10000_metadata.csv', 'r') as csvfile:\n",
    "    df = pd.read_csv(csvfile, index_col=[0])"
   ]
  },
  {
   "cell_type": "code",
   "execution_count": 5,
   "id": "4365a913",
   "metadata": {},
   "outputs": [
    {
     "data": {
      "text/html": [
       "<div>\n",
       "<style scoped>\n",
       "    .dataframe tbody tr th:only-of-type {\n",
       "        vertical-align: middle;\n",
       "    }\n",
       "\n",
       "    .dataframe tbody tr th {\n",
       "        vertical-align: top;\n",
       "    }\n",
       "\n",
       "    .dataframe thead th {\n",
       "        text-align: right;\n",
       "    }\n",
       "</style>\n",
       "<table border=\"1\" class=\"dataframe\">\n",
       "  <thead>\n",
       "    <tr style=\"text-align: right;\">\n",
       "      <th></th>\n",
       "      <th>image_id</th>\n",
       "      <th>dx</th>\n",
       "      <th>dx_type</th>\n",
       "      <th>age</th>\n",
       "      <th>sex</th>\n",
       "      <th>localization</th>\n",
       "    </tr>\n",
       "    <tr>\n",
       "      <th>lesion_id</th>\n",
       "      <th></th>\n",
       "      <th></th>\n",
       "      <th></th>\n",
       "      <th></th>\n",
       "      <th></th>\n",
       "      <th></th>\n",
       "    </tr>\n",
       "  </thead>\n",
       "  <tbody>\n",
       "    <tr>\n",
       "      <th>HAM_0000118</th>\n",
       "      <td>ISIC_0027419</td>\n",
       "      <td>bkl</td>\n",
       "      <td>histo</td>\n",
       "      <td>80.0</td>\n",
       "      <td>male</td>\n",
       "      <td>scalp</td>\n",
       "    </tr>\n",
       "    <tr>\n",
       "      <th>HAM_0000118</th>\n",
       "      <td>ISIC_0025030</td>\n",
       "      <td>bkl</td>\n",
       "      <td>histo</td>\n",
       "      <td>80.0</td>\n",
       "      <td>male</td>\n",
       "      <td>scalp</td>\n",
       "    </tr>\n",
       "    <tr>\n",
       "      <th>HAM_0002730</th>\n",
       "      <td>ISIC_0026769</td>\n",
       "      <td>bkl</td>\n",
       "      <td>histo</td>\n",
       "      <td>80.0</td>\n",
       "      <td>male</td>\n",
       "      <td>scalp</td>\n",
       "    </tr>\n",
       "    <tr>\n",
       "      <th>HAM_0002730</th>\n",
       "      <td>ISIC_0025661</td>\n",
       "      <td>bkl</td>\n",
       "      <td>histo</td>\n",
       "      <td>80.0</td>\n",
       "      <td>male</td>\n",
       "      <td>scalp</td>\n",
       "    </tr>\n",
       "    <tr>\n",
       "      <th>HAM_0001466</th>\n",
       "      <td>ISIC_0031633</td>\n",
       "      <td>bkl</td>\n",
       "      <td>histo</td>\n",
       "      <td>75.0</td>\n",
       "      <td>male</td>\n",
       "      <td>ear</td>\n",
       "    </tr>\n",
       "  </tbody>\n",
       "</table>\n",
       "</div>"
      ],
      "text/plain": [
       "                 image_id   dx dx_type   age   sex localization\n",
       "lesion_id                                                      \n",
       "HAM_0000118  ISIC_0027419  bkl   histo  80.0  male        scalp\n",
       "HAM_0000118  ISIC_0025030  bkl   histo  80.0  male        scalp\n",
       "HAM_0002730  ISIC_0026769  bkl   histo  80.0  male        scalp\n",
       "HAM_0002730  ISIC_0025661  bkl   histo  80.0  male        scalp\n",
       "HAM_0001466  ISIC_0031633  bkl   histo  75.0  male          ear"
      ]
     },
     "execution_count": 5,
     "metadata": {},
     "output_type": "execute_result"
    }
   ],
   "source": [
    "# Getting a glimpse of the skin lesion data through a pandas data frame\n",
    "df.head()"
   ]
  },
  {
   "cell_type": "code",
   "execution_count": 6,
   "id": "478fcb55",
   "metadata": {},
   "outputs": [
    {
     "data": {
      "text/plain": [
       "(10015, 6)"
      ]
     },
     "execution_count": 6,
     "metadata": {},
     "output_type": "execute_result"
    }
   ],
   "source": [
    "df.shape"
   ]
  },
  {
   "cell_type": "code",
   "execution_count": 7,
   "id": "31b96d43",
   "metadata": {},
   "outputs": [
    {
     "name": "stdout",
     "output_type": "stream",
     "text": [
      "<class 'pandas.core.frame.DataFrame'>\n",
      "Index: 10015 entries, HAM_0000118 to HAM_0003521\n",
      "Data columns (total 6 columns):\n",
      " #   Column        Non-Null Count  Dtype  \n",
      "---  ------        --------------  -----  \n",
      " 0   image_id      10015 non-null  object \n",
      " 1   dx            10015 non-null  object \n",
      " 2   dx_type       10015 non-null  object \n",
      " 3   age           9958 non-null   float64\n",
      " 4   sex           10015 non-null  object \n",
      " 5   localization  10015 non-null  object \n",
      "dtypes: float64(1), object(5)\n",
      "memory usage: 547.7+ KB\n"
     ]
    }
   ],
   "source": [
    "df.info()"
   ]
  },
  {
   "cell_type": "markdown",
   "id": "ba6e3910",
   "metadata": {},
   "source": [
    "### Determining distribution of observations based on 7 classes "
   ]
  },
  {
   "cell_type": "code",
   "execution_count": 9,
   "id": "da27ba5d",
   "metadata": {},
   "outputs": [
    {
     "data": {
      "text/plain": [
       "nv       6705\n",
       "mel      1113\n",
       "bkl      1099\n",
       "bcc       514\n",
       "akiec     327\n",
       "vasc      142\n",
       "df        115\n",
       "Name: dx, dtype: int64"
      ]
     },
     "execution_count": 9,
     "metadata": {},
     "output_type": "execute_result"
    }
   ],
   "source": [
    "# Finding the number of values under 'dx' column which contains the 7 classes of skin lesions\n",
    "df['dx'].value_counts()"
   ]
  },
  {
   "cell_type": "code",
   "execution_count": 8,
   "id": "6b6e804b",
   "metadata": {},
   "outputs": [
    {
     "data": {
      "text/plain": [
       "<AxesSubplot:>"
      ]
     },
     "execution_count": 8,
     "metadata": {},
     "output_type": "execute_result"
    },
    {
     "data": {
      "image/png": "[encoded data removed]",
      "text/plain": [
       "<Figure size 432x288 with 1 Axes>"
      ]
     },
     "metadata": {
      "needs_background": "light"
     },
     "output_type": "display_data"
    }
   ],
   "source": [
    "# Showing through a plot that the number of image data samples are unevenly distributed\n",
    "df.dx.value_counts().sort_values().plot(kind = 'barh')"
   ]
  }
 ],
 "metadata": {
  "kernelspec": {
   "display_name": "tf",
   "language": "python",
   "name": "tf"
  },
  "language_info": {
   "codemirror_mode": {
    "name": "ipython",
    "version": 3
   },
   "file_extension": ".py",
   "mimetype": "text/x-python",
   "name": "python",
   "nbconvert_exporter": "python",
   "pygments_lexer": "ipython3",
   "version": "3.7.13"
  }
 },
 "nbformat": 4,
 "nbformat_minor": 5
}
