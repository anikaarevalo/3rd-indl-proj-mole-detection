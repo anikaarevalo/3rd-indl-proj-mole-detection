{
  "cells": [
    {
      "cell_type": "markdown",
      "source": [
        "## Retrained model usage"
      ],
      "metadata": {
        "id": "o38MPVlB8Iu6"
      },
      "id": "o38MPVlB8Iu6"
    },
    {
      "cell_type": "markdown",
      "source": [
        "### Importing my saved  customised CNN for classifying skin lesions"
      ],
      "metadata": {
        "id": "xoCmCaNE8UYA"
      },
      "id": "xoCmCaNE8UYA"
    },
    {
      "cell_type": "code",
      "source": [
        "import numpy as np\n",
        "import tensorflow as tf\n",
        "from tensorflow import keras"
      ],
      "metadata": {
        "id": "r8TJNNbK8GyZ"
      },
      "id": "r8TJNNbK8GyZ",
      "execution_count": 36,
      "outputs": []
    },
    {
      "cell_type": "code",
      "source": [
        "from google.colab import drive\n",
        "drive.mount('/content/drive')"
      ],
      "metadata": {
        "colab": {
          "base_uri": "https://localhost:8080/"
        },
        "id": "YmoEnUPDCOq-",
        "outputId": "8d88ec9f-05df-4ea6-da60-8ef57952d33f"
      },
      "id": "YmoEnUPDCOq-",
      "execution_count": 37,
      "outputs": [
        {
          "output_type": "stream",
          "name": "stdout",
          "text": [
            "Drive already mounted at /content/drive; to attempt to forcibly remount, call drive.mount(\"/content/drive\", force_remount=True).\n"
          ]
        }
      ]
    },
    {
      "cell_type": "code",
      "source": [
        "# Using Keras .save() model function again to reconstruct the model identically\n",
        "reconstructed_model = keras.models.load_model('drive/MyDrive/my_model')"
      ],
      "metadata": {
        "id": "f4Ikof4FCJDE"
      },
      "id": "f4Ikof4FCJDE",
      "execution_count": 38,
      "outputs": []
    },
    {
      "cell_type": "code",
      "source": [
        "# Getting information about my saved (customised) MobileNetV2 image processing \n",
        "# skin lesion classifier\n",
        "reconstructed_model.summary()"
      ],
      "metadata": {
        "colab": {
          "base_uri": "https://localhost:8080/"
        },
        "id": "D1xB3iof7RrC",
        "outputId": "6eb80d9c-7444-4b0d-b617-9e0d6862bae7"
      },
      "id": "D1xB3iof7RrC",
      "execution_count": 39,
      "outputs": [
        {
          "output_type": "stream",
          "name": "stdout",
          "text": [
            "Model: \"sequential\"\n",
            "_________________________________________________________________\n",
            " Layer (type)                Output Shape              Param #   \n",
            "=================================================================\n",
            " model (Functional)          (None, 7, 7, 7)           1541511   \n",
            "                                                                 \n",
            " flatten (Flatten)           (None, 343)               0         \n",
            "                                                                 \n",
            " dense_1 (Dense)             (None, 64)                22016     \n",
            "                                                                 \n",
            " dropout_1 (Dropout)         (None, 64)                0         \n",
            "                                                                 \n",
            " dense_2 (Dense)             (None, 7)                 455       \n",
            "                                                                 \n",
            "=================================================================\n",
            "Total params: 1,563,982\n",
            "Trainable params: 1,533,070\n",
            "Non-trainable params: 30,912\n",
            "_________________________________________________________________\n"
          ]
        }
      ]
    },
    {
      "cell_type": "markdown",
      "source": [
        "### Start making predictions after loading saved customised model"
      ],
      "metadata": {
        "id": "0o7QUYRNFHiO"
      },
      "id": "0o7QUYRNFHiO"
    },
    {
      "cell_type": "code",
      "source": [
        "reconstructed_model.compile(optimizer = 'adam', loss = 'categorical_crossentropy', metrics = ['accuracy'])"
      ],
      "metadata": {
        "id": "tnalKzVW_VLM"
      },
      "id": "tnalKzVW_VLM",
      "execution_count": 40,
      "outputs": []
    },
    {
      "cell_type": "code",
      "source": [
        "from keras.preprocessing import image\n",
        "\n",
        "test_image = image.load_img('drive/MyDrive/base_dir/val_dir/vasc/ISIC_0024747.jpg', target_size = (224, 224)) \n",
        "test_image = image.img_to_array(test_image)\n",
        "test_image = np.expand_dims(test_image, axis = 0)\n",
        "\n",
        "# Predicting the result\n",
        "result = reconstructed_model.predict(test_image)\n",
        "print(result)"
      ],
      "metadata": {
        "colab": {
          "base_uri": "https://localhost:8080/"
        },
        "id": "kQGrpQP6Fd5X",
        "outputId": "91aca344-7747-4851-856b-0f96544444a0"
      },
      "id": "kQGrpQP6Fd5X",
      "execution_count": 56,
      "outputs": [
        {
          "output_type": "stream",
          "name": "stdout",
          "text": [
            "[[0.02505603 0.50205415 0.12458453 0.02097407 0.587511   0.00853884\n",
            "  0.9991152 ]]\n"
          ]
        }
      ]
    },
    {
      "cell_type": "markdown",
      "source": [
        "### Decoding the prediction from sample image"
      ],
      "metadata": {
        "id": "jQNbFFbEMIeI"
      },
      "id": "jQNbFFbEMIeI"
    },
    {
      "cell_type": "code",
      "source": [
        "classes = ['akiec', 'bcc', 'bkl', 'df', 'mel', 'nv', 'vasc']\n",
        "zip_iterator = zip(classes, result[0])\n",
        "classification = dict(zip_iterator)\n",
        "print(classification)"
      ],
      "metadata": {
        "colab": {
          "base_uri": "https://localhost:8080/"
        },
        "outputId": "a1ab4f2f-390a-44a5-89c6-62459ff0aad0",
        "id": "MizJ2_vvLup5"
      },
      "execution_count": 57,
      "outputs": [
        {
          "output_type": "stream",
          "name": "stdout",
          "text": [
            "{'akiec': 0.025056034, 'bcc': 0.50205415, 'bkl': 0.124584526, 'df': 0.02097407, 'mel': 0.587511, 'nv': 0.008538842, 'vasc': 0.9991152}\n"
          ]
        }
      ],
      "id": "MizJ2_vvLup5"
    },
    {
      "cell_type": "code",
      "source": [
        "verdict = max(classification, key=classification.get)\n",
        "print('Your skin lesion is most likely:', verdict)"
      ],
      "metadata": {
        "colab": {
          "base_uri": "https://localhost:8080/"
        },
        "id": "8cTW7ewZQdHj",
        "outputId": "edb6dae4-7380-4bc3-dc5b-0bb2d2e95e3b"
      },
      "id": "8cTW7ewZQdHj",
      "execution_count": 58,
      "outputs": [
        {
          "output_type": "stream",
          "name": "stdout",
          "text": [
            "Your skin lesion is most likely: vasc\n"
          ]
        }
      ]
    },
    {
      "cell_type": "markdown",
      "source": [
        "### Displaying sample image"
      ],
      "metadata": {
        "id": "EO3JkwSzHMZY"
      },
      "id": "EO3JkwSzHMZY"
    },
    {
      "cell_type": "code",
      "source": [
        "%matplotlib inline\n",
        "import cv2 as cv\n",
        "import numpy as np\n",
        "from matplotlib import pyplot as plt\n",
        "\n",
        "# Changing display image size in notebook with matplotlib\n",
        "plt.rcParams[\"figure.figsize\"] = (5,5)\n",
        "\n",
        "# Opening the image with openCV\n",
        "img = cv.imread('drive/MyDrive/base_dir/val_dir/vasc/ISIC_0024747.jpg',cv.IMREAD_GRAYSCALE)\n",
        "\n",
        "# Displaying the image with openCV in notbook\n",
        "plt.axis('off')\n",
        "plt.imshow(cv.cvtColor(img, cv.COLOR_BGR2RGB)) # Loading with grayscale too\n",
        "print('Your skin lesion is most likely:', verdict)"
      ],
      "metadata": {
        "colab": {
          "base_uri": "https://localhost:8080/",
          "height": 257
        },
        "id": "ID3EyqK5M-b-",
        "outputId": "a94e1046-e0c0-4ea5-d20a-402ed807ffef"
      },
      "id": "ID3EyqK5M-b-",
      "execution_count": 61,
      "outputs": [
        {
          "output_type": "stream",
          "name": "stdout",
          "text": [
            "Your skin lesion is most likely: vasc\n"
          ]
        },
        {
          "output_type": "display_data",
          "data": {
            "text/plain": [
              "<Figure size 360x360 with 1 Axes>"
            ],
            "image/png": "[encoded data removed]"
          },
          "metadata": {
            "needs_background": "light"
          }
        }
      ]
    },
    {
      "cell_type": "markdown",
      "source": [
        "**NOTE:**\n",
        "The sample image was taken from the validation directory inside the folder containing sample images classified as 'vasc' or vascular carcinoma. In this case, the model made a correct prediction. "
      ],
      "metadata": {
        "id": "hAqzSe1Se2up"
      },
      "id": "hAqzSe1Se2up"
    }
  ],
  "metadata": {
    "kernelspec": {
      "display_name": "tf",
      "language": "python",
      "name": "tf"
    },
    "language_info": {
      "codemirror_mode": {
        "name": "ipython",
        "version": 3
      },
      "file_extension": ".py",
      "mimetype": "text/x-python",
      "name": "python",
      "nbconvert_exporter": "python",
      "pygments_lexer": "ipython3",
      "version": "3.7.13"
    },
    "colab": {
      "name": "III.Retrained_MobileNetv2_deployment.ipynb",
      "provenance": [],
      "collapsed_sections": []
    }
  },
  "nbformat": 4,
  "nbformat_minor": 5
}
